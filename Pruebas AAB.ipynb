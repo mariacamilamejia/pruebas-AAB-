{
 "cells": [
  {
   "cell_type": "markdown",
   "metadata": {},
   "source": [
    "----"
   ]
  },
  {
   "cell_type": "markdown",
   "metadata": {},
   "source": [
    "Estudia el embudo de ventas. Descubre cómo los usuarios y las usuarias llegan a la etapa de compra. ¿Cuántos usuarios o usuarias realmente llegan a esta etapa? ¿Cuántos se atascan en etapas anteriores? ¿Qué etapas en particular?\n",
    "\n",
    "Luego, observa los resultados de un test A/A/B. (Sigue leyendo para obtener más información sobre los test A/A/B). Al equipo de diseño le gustaría cambiar las fuentes de toda la aplicación, pero la gerencia teme que los usuarios y las usuarias piensen que el nuevo diseño es intimidante. Por ello, deciden tomar una decisión basada en los resultados de un test A/A/B.\n",
    "\n",
    "Los usuarios se dividen en tres grupos: dos grupos de control obtienen las fuentes antiguas y un grupo de prueba obtiene las nuevas. Descubre qué conjunto de fuentes produce mejores resultados."
   ]
  },
  {
   "cell_type": "code",
   "execution_count": null,
   "metadata": {},
   "outputs": [],
   "source": [
    "import pandas as pd\n",
    "import seaborn as sns\n",
    "from matplotlib import pyplot as plt\n",
    "from scipy import stats as st\n",
    "from statsmodels.stats.proportion import proportions_ztest\n",
    "import numpy as np"
   ]
  },
  {
   "cell_type": "code",
   "execution_count": 41,
   "metadata": {},
   "outputs": [],
   "source": [
    "data_company=pd.read_csv('/datasets/logs_exp_us.csv',sep='\\s+')"
   ]
  },
  {
   "cell_type": "code",
   "execution_count": 42,
   "metadata": {},
   "outputs": [
    {
     "name": "stdout",
     "output_type": "stream",
     "text": [
      "<class 'pandas.core.frame.DataFrame'>\n",
      "RangeIndex: 244126 entries, 0 to 244125\n",
      "Data columns (total 4 columns):\n",
      " #   Column          Non-Null Count   Dtype \n",
      "---  ------          --------------   ----- \n",
      " 0   EventName       244126 non-null  object\n",
      " 1   DeviceIDHash    244126 non-null  int64 \n",
      " 2   EventTimestamp  244126 non-null  int64 \n",
      " 3   ExpId           244126 non-null  int64 \n",
      "dtypes: int64(3), object(1)\n",
      "memory usage: 7.5+ MB\n"
     ]
    }
   ],
   "source": [
    "data_company.info()"
   ]
  },
  {
   "cell_type": "code",
   "execution_count": 43,
   "metadata": {},
   "outputs": [
    {
     "data": {
      "text/html": [
       "<div>\n",
       "<style scoped>\n",
       "    .dataframe tbody tr th:only-of-type {\n",
       "        vertical-align: middle;\n",
       "    }\n",
       "\n",
       "    .dataframe tbody tr th {\n",
       "        vertical-align: top;\n",
       "    }\n",
       "\n",
       "    .dataframe thead th {\n",
       "        text-align: right;\n",
       "    }\n",
       "</style>\n",
       "<table border=\"1\" class=\"dataframe\">\n",
       "  <thead>\n",
       "    <tr style=\"text-align: right;\">\n",
       "      <th></th>\n",
       "      <th>EventName</th>\n",
       "      <th>DeviceIDHash</th>\n",
       "      <th>EventTimestamp</th>\n",
       "      <th>ExpId</th>\n",
       "    </tr>\n",
       "  </thead>\n",
       "  <tbody>\n",
       "    <tr>\n",
       "      <th>0</th>\n",
       "      <td>MainScreenAppear</td>\n",
       "      <td>4575588528974610257</td>\n",
       "      <td>1564029816</td>\n",
       "      <td>246</td>\n",
       "    </tr>\n",
       "    <tr>\n",
       "      <th>1</th>\n",
       "      <td>MainScreenAppear</td>\n",
       "      <td>7416695313311560658</td>\n",
       "      <td>1564053102</td>\n",
       "      <td>246</td>\n",
       "    </tr>\n",
       "    <tr>\n",
       "      <th>2</th>\n",
       "      <td>PaymentScreenSuccessful</td>\n",
       "      <td>3518123091307005509</td>\n",
       "      <td>1564054127</td>\n",
       "      <td>248</td>\n",
       "    </tr>\n",
       "    <tr>\n",
       "      <th>3</th>\n",
       "      <td>CartScreenAppear</td>\n",
       "      <td>3518123091307005509</td>\n",
       "      <td>1564054127</td>\n",
       "      <td>248</td>\n",
       "    </tr>\n",
       "    <tr>\n",
       "      <th>4</th>\n",
       "      <td>PaymentScreenSuccessful</td>\n",
       "      <td>6217807653094995999</td>\n",
       "      <td>1564055322</td>\n",
       "      <td>248</td>\n",
       "    </tr>\n",
       "  </tbody>\n",
       "</table>\n",
       "</div>"
      ],
      "text/plain": [
       "                 EventName         DeviceIDHash  EventTimestamp  ExpId\n",
       "0         MainScreenAppear  4575588528974610257      1564029816    246\n",
       "1         MainScreenAppear  7416695313311560658      1564053102    246\n",
       "2  PaymentScreenSuccessful  3518123091307005509      1564054127    248\n",
       "3         CartScreenAppear  3518123091307005509      1564054127    248\n",
       "4  PaymentScreenSuccessful  6217807653094995999      1564055322    248"
      ]
     },
     "execution_count": 43,
     "metadata": {},
     "output_type": "execute_result"
    }
   ],
   "source": [
    "data_company.head(5)\n",
    "\n",
    "\n"
   ]
  },
  {
   "cell_type": "code",
   "execution_count": 44,
   "metadata": {},
   "outputs": [
    {
     "name": "stdout",
     "output_type": "stream",
     "text": [
      "EventName         0\n",
      "DeviceIDHash      0\n",
      "EventTimestamp    0\n",
      "ExpId             0\n",
      "dtype: int64\n"
     ]
    }
   ],
   "source": [
    "print(data_company.isna().sum())"
   ]
  },
  {
   "cell_type": "code",
   "execution_count": 45,
   "metadata": {},
   "outputs": [],
   "source": [
    "data_company.columns=['event_name','device_id_hash','Event_time_stamp','exp_id']"
   ]
  },
  {
   "cell_type": "code",
   "execution_count": 46,
   "metadata": {},
   "outputs": [],
   "source": [
    "data_company['event_hour']=pd.to_datetime(data_company['Event_time_stamp'],unit='s')\n",
    "data_company['event_date']=data_company['event_hour'].dt.date\n"
   ]
  },
  {
   "cell_type": "code",
   "execution_count": 47,
   "metadata": {},
   "outputs": [
    {
     "name": "stdout",
     "output_type": "stream",
     "text": [
      "                event_name       device_id_hash  Event_time_stamp  exp_id  \\\n",
      "0         MainScreenAppear  4575588528974610257        1564029816     246   \n",
      "1         MainScreenAppear  7416695313311560658        1564053102     246   \n",
      "2  PaymentScreenSuccessful  3518123091307005509        1564054127     248   \n",
      "3         CartScreenAppear  3518123091307005509        1564054127     248   \n",
      "4  PaymentScreenSuccessful  6217807653094995999        1564055322     248   \n",
      "5         CartScreenAppear  6217807653094995999        1564055323     248   \n",
      "6       OffersScreenAppear  8351860793733343758        1564066242     246   \n",
      "7         MainScreenAppear  5682100281902512875        1564085677     246   \n",
      "8         MainScreenAppear  1850981295691852772        1564086702     247   \n",
      "9         MainScreenAppear  5407636962369102641        1564112112     246   \n",
      "\n",
      "           event_hour  event_date  \n",
      "0 2019-07-25 04:43:36  2019-07-25  \n",
      "1 2019-07-25 11:11:42  2019-07-25  \n",
      "2 2019-07-25 11:28:47  2019-07-25  \n",
      "3 2019-07-25 11:28:47  2019-07-25  \n",
      "4 2019-07-25 11:48:42  2019-07-25  \n",
      "5 2019-07-25 11:48:43  2019-07-25  \n",
      "6 2019-07-25 14:50:42  2019-07-25  \n",
      "7 2019-07-25 20:14:37  2019-07-25  \n",
      "8 2019-07-25 20:31:42  2019-07-25  \n",
      "9 2019-07-26 03:35:12  2019-07-26  \n"
     ]
    }
   ],
   "source": [
    "print(data_company.head(10))"
   ]
  },
  {
   "cell_type": "code",
   "execution_count": 48,
   "metadata": {},
   "outputs": [
    {
     "name": "stdout",
     "output_type": "stream",
     "text": [
      "244126\n"
     ]
    }
   ],
   "source": [
    "event=data_company.shape[0]\n",
    "print(event)"
   ]
  },
  {
   "cell_type": "markdown",
   "metadata": {},
   "source": [
    "En los registros hay 244126 eventos"
   ]
  },
  {
   "cell_type": "code",
   "execution_count": 49,
   "metadata": {},
   "outputs": [
    {
     "name": "stdout",
     "output_type": "stream",
     "text": [
      "7551\n"
     ]
    }
   ],
   "source": [
    "event_unique=data_company['device_id_hash'].nunique()\n",
    "print(event_unique)\n"
   ]
  },
  {
   "cell_type": "markdown",
   "metadata": {},
   "source": [
    "El total de los usuarios son 7551 teniendo en cuenta los registros"
   ]
  },
  {
   "cell_type": "code",
   "execution_count": 50,
   "metadata": {},
   "outputs": [
    {
     "name": "stdout",
     "output_type": "stream",
     "text": [
      "32.33028737915508\n"
     ]
    }
   ],
   "source": [
    "mean_per_user=data_company['device_id_hash'].value_counts()\n",
    "print(mean_per_user.mean())"
   ]
  },
  {
   "cell_type": "markdown",
   "metadata": {},
   "source": [
    "El promedio de evento por usuario es 32"
   ]
  },
  {
   "cell_type": "code",
   "execution_count": 51,
   "metadata": {},
   "outputs": [
    {
     "name": "stdout",
     "output_type": "stream",
     "text": [
      "(datetime.date(2019, 7, 25), datetime.date(2019, 8, 7))\n"
     ]
    }
   ],
   "source": [
    "date_min_max=data_company['event_date'].min(),data_company['event_date'].max()\n",
    "print(date_min_max)"
   ]
  },
  {
   "cell_type": "markdown",
   "metadata": {},
   "source": [
    "Los datos cubren el periodo entre Julio y Agosto de 2019, la fecha minima de eventos es el 25 de julio de 2019 y la fecha maxima es el 07 de Agosto de 2019"
   ]
  },
  {
   "cell_type": "code",
   "execution_count": 52,
   "metadata": {},
   "outputs": [
    {
     "data": {
      "text/plain": [
       "<AxesSubplot:>"
      ]
     },
     "execution_count": 52,
     "metadata": {},
     "output_type": "execute_result"
    },
    {
     "data": {
      "image/png": "[encoded data removed]",
      "text/plain": [
       "<Figure size 640x480 with 1 Axes>"
      ]
     },
     "metadata": {},
     "output_type": "display_data"
    }
   ],
   "source": [
    "plt.xticks(rotation=45)\n",
    "data_company['event_hour'].hist()"
   ]
  },
  {
   "cell_type": "markdown",
   "metadata": {},
   "source": [
    "De acuerdo al histograma la mayoria de eventos se presentan del 31 de julio al 07 de agosto de 2019"
   ]
  },
  {
   "cell_type": "code",
   "execution_count": 53,
   "metadata": {},
   "outputs": [
    {
     "name": "stdout",
     "output_type": "stream",
     "text": [
      "                event_name       device_id_hash  Event_time_stamp  exp_id  \\\n",
      "797       MainScreenAppear  3670880358399219515        1564535506     247   \n",
      "798     OffersScreenAppear  3799109751993694887        1564536064     248   \n",
      "799               Tutorial  1126021718529336913        1564536731     247   \n",
      "800       MainScreenAppear  4293428370257583636        1564539558     248   \n",
      "801       MainScreenAppear  4567464647598975872        1564540410     247   \n",
      "...                    ...                  ...               ...     ...   \n",
      "244121    MainScreenAppear  4599628364049201812        1565212345     247   \n",
      "244122    MainScreenAppear  5849806612437486590        1565212439     246   \n",
      "244123    MainScreenAppear  5746969938801999050        1565212483     246   \n",
      "244124    MainScreenAppear  5746969938801999050        1565212498     246   \n",
      "244125  OffersScreenAppear  5746969938801999050        1565212517     246   \n",
      "\n",
      "                event_hour  event_date  \n",
      "797    2019-07-31 01:11:46  2019-07-31  \n",
      "798    2019-07-31 01:21:04  2019-07-31  \n",
      "799    2019-07-31 01:32:11  2019-07-31  \n",
      "800    2019-07-31 02:19:18  2019-07-31  \n",
      "801    2019-07-31 02:33:30  2019-07-31  \n",
      "...                    ...         ...  \n",
      "244121 2019-08-07 21:12:25  2019-08-07  \n",
      "244122 2019-08-07 21:13:59  2019-08-07  \n",
      "244123 2019-08-07 21:14:43  2019-08-07  \n",
      "244124 2019-08-07 21:14:58  2019-08-07  \n",
      "244125 2019-08-07 21:15:17  2019-08-07  \n",
      "\n",
      "[243329 rows x 6 columns]\n"
     ]
    }
   ],
   "source": [
    "start_date=pd.to_datetime('2019-07-31')\n",
    "end_date=pd.to_datetime('2019-08-07')\n",
    "\n",
    "data_filter=data_company[(data_company['event_date']>=start_date)&(data_company['event_date']<=end_date)]\n",
    "print(data_filter)"
   ]
  },
  {
   "cell_type": "code",
   "execution_count": 54,
   "metadata": {},
   "outputs": [
    {
     "name": "stdout",
     "output_type": "stream",
     "text": [
      "los usuarios perdidos son: 9\n",
      "los eventos perdidos son: 797\n"
     ]
    }
   ],
   "source": [
    "total= (data_company['device_id_hash'].nunique())\n",
    "last= (data_filter['device_id_hash'].nunique())\n",
    "user_lost= total - last\n",
    "event_total=len(data_company['event_name'])\n",
    "event_last=len(data_filter['event_name'])\n",
    "event_lost=(event_total)-(event_last)\n",
    "\n",
    "\n",
    "print(f\"los usuarios perdidos son:\",user_lost)\n",
    "print(f\"los eventos perdidos son:\",event_lost)"
   ]
  },
  {
   "cell_type": "markdown",
   "metadata": {},
   "source": [
    "Se realiza filtro y se dejan a partir de 31 de julio y se cuenta con los usuarios de los tres grupos experimentales "
   ]
  },
  {
   "cell_type": "code",
   "execution_count": 55,
   "metadata": {
    "scrolled": true
   },
   "outputs": [
    {
     "name": "stdout",
     "output_type": "stream",
     "text": [
      "                        device_id_hash\n",
      "                                 count\n",
      "event_name                            \n",
      "MainScreenAppear                118681\n",
      "OffersScreenAppear               46724\n",
      "CartScreenAppear                 42623\n",
      "PaymentScreenSuccessful          34253\n",
      "Tutorial                          1048\n"
     ]
    }
   ],
   "source": [
    "event_frequency=data_filter.groupby('event_name').agg({'device_id_hash': ['count']}).sort_values(by=('device_id_hash','count'),ascending=False)\n",
    "print(event_frequency)"
   ]
  },
  {
   "cell_type": "markdown",
   "metadata": {},
   "source": [
    "En los registros hay 5 eventos, El MainScreen Appear es la primera etapa."
   ]
  },
  {
   "cell_type": "code",
   "execution_count": 56,
   "metadata": {},
   "outputs": [
    {
     "name": "stdout",
     "output_type": "stream",
     "text": [
      "                event_name  user_count  proportion\n",
      "0         MainScreenAppear      118681   15.736012\n",
      "1       OffersScreenAppear       46724    6.195174\n",
      "2         CartScreenAppear       42623    5.651419\n",
      "3  PaymentScreenSuccessful       34253    4.541634\n",
      "4                 Tutorial        1048    0.138955\n"
     ]
    }
   ],
   "source": [
    "user_per_event=data_filter['event_name'].value_counts().reset_index()\n",
    "user_per_event.columns=['event_name','user_count']\n",
    "total_user=data_filter['device_id_hash'].nunique()\n",
    "user_per_event['proportion']=user_per_event['user_count']/total_user\n",
    "print(user_per_event)"
   ]
  },
  {
   "cell_type": "markdown",
   "metadata": {},
   "source": [
    "Se visualizan la cantidad de usuarios que realizaron estas acciones, y su proporcion respectiva."
   ]
  },
  {
   "cell_type": "code",
   "execution_count": 57,
   "metadata": {},
   "outputs": [
    {
     "name": "stdout",
     "output_type": "stream",
     "text": [
      "                event_name device_id_hash\n",
      "                                  nunique\n",
      "0         MainScreenAppear           7429\n",
      "1       OffersScreenAppear           4606\n",
      "2         CartScreenAppear           3742\n",
      "3  PaymentScreenSuccessful           3542\n",
      "4                 Tutorial            845\n"
     ]
    }
   ],
   "source": [
    "event_frequency_user=data_filter.groupby('event_name').agg({'device_id_hash': ['nunique']}).sort_values(by=('device_id_hash','nunique'),ascending=False)\n",
    "event_frequency_user=event_frequency_user.reset_index()\n",
    "print(event_frequency_user)"
   ]
  },
  {
   "cell_type": "markdown",
   "metadata": {},
   "source": [
    "El orden en el que ocurrieron las acciones es: MainScreenAppear, OffersScreenAppear, CartScreenAppear, PaymentScreenSuccessful y Tutorial. No necesariamente todos los usuarios llevan la misma secuencia."
   ]
  },
  {
   "cell_type": "code",
   "execution_count": 58,
   "metadata": {},
   "outputs": [],
   "source": [
    "user_event_filter= data_filter.pivot_table(index='device_id_hash',columns='event_name',values='event_hour',aggfunc='min')\n",
    "step_1 =~user_event_filter['MainScreenAppear'].isna()\n",
    "step_2 =step_1 &(user_event_filter['OffersScreenAppear']>user_event_filter['MainScreenAppear'])\n",
    "step_3 = step_2 & (user_event_filter['CartScreenAppear']>user_event_filter['OffersScreenAppear'])\n",
    "step_4 = step_3 & (user_event_filter['PaymentScreenSuccessful']>user_event_filter['CartScreenAppear'])\n",
    "step_5=  step_4 & (user_event_filter['Tutorial']>user_event_filter['PaymentScreenSuccessful'])\n",
    "\n"
   ]
  },
  {
   "cell_type": "code",
   "execution_count": 59,
   "metadata": {},
   "outputs": [
    {
     "name": "stdout",
     "output_type": "stream",
     "text": [
      "Inicio 7429\n",
      "Oferta: 4116\n",
      "Agrega al carro: 1672\n",
      "Pagado: 453\n",
      "Tutorial: 1\n"
     ]
    }
   ],
   "source": [
    "n_MainScreenAppear = user_event_filter[step_1].shape[0]\n",
    "n_OffersScreenAppear = user_event_filter[step_2].shape[0]\n",
    "n_CartScreenAppear = user_event_filter[step_3].shape[0]\n",
    "n_PaymentScreenSuccessful=  user_event_filter[step_4].shape[0]\n",
    "n_Tutorial=  user_event_filter[step_5].shape[0]\n",
    "\n",
    "print('Inicio', n_MainScreenAppear)\n",
    "print('Oferta:', n_OffersScreenAppear)\n",
    "print('Agrega al carro:', n_CartScreenAppear)\n",
    "print('Pagado:', n_PaymentScreenSuccessful)\n",
    "print('Tutorial:',n_Tutorial)\n"
   ]
  },
  {
   "cell_type": "markdown",
   "metadata": {},
   "source": [
    "De acuerdo al embudo se visualiza la secuencia de como van pasando los usuarios por cada una de las etapas.."
   ]
  },
  {
   "cell_type": "code",
   "execution_count": 60,
   "metadata": {},
   "outputs": [
    {
     "name": "stdout",
     "output_type": "stream",
     "text": [
      "                event_name  cant_user  proportion\n",
      "0         MainScreenAppear       7429    0.985017\n",
      "1       OffersScreenAppear       4606    0.610713\n",
      "2         CartScreenAppear       3742    0.496155\n",
      "3  PaymentScreenSuccessful       3542    0.469637\n",
      "4                 Tutorial        845    0.112039\n"
     ]
    }
   ],
   "source": [
    "event_proportion_user=data_filter.groupby('event_name').agg({'device_id_hash': ['nunique']}).sort_values(by=('device_id_hash','nunique'),ascending=False)\n",
    "event_proportion_user=event_proportion_user.reset_index()\n",
    "event_proportion_user.columns=['event_name','cant_user']\n",
    "total_user=data_filter['device_id_hash'].nunique()\n",
    "event_proportion_user['proportion']=event_proportion_user['cant_user']/total_user\n",
    "print(event_proportion_user)"
   ]
  },
  {
   "cell_type": "code",
   "execution_count": 61,
   "metadata": {},
   "outputs": [
    {
     "name": "stdout",
     "output_type": "stream",
     "text": [
      "Inicio 100.0%\n",
      "Oferta:  55.4%\n",
      "Agrega al carro: 40.6%\n",
      "Pagado: 27.1%\n"
     ]
    }
   ],
   "source": [
    "percent_user_MainScreenAppear = (n_MainScreenAppear/n_MainScreenAppear)*100\n",
    "percent_user_OffersScreenAppear = (n_OffersScreenAppear /n_MainScreenAppear)*100\n",
    "percent_user_CartScreenAppear = (n_CartScreenAppear/n_OffersScreenAppear)*100\n",
    "percent_user_PaymentScreenSuccessful= (n_PaymentScreenSuccessful/n_CartScreenAppear)*100\n",
    "\n",
    "print('Inicio', f\"{percent_user_MainScreenAppear:.1f}%\")\n",
    "print('Oferta:',f\" {percent_user_OffersScreenAppear:.1f}%\")\n",
    "print('Agrega al carro:',f\"{percent_user_CartScreenAppear:.1f}%\")\n",
    "print('Pagado:', f\"{percent_user_PaymentScreenSuccessful:.1f}%\")\n"
   ]
  },
  {
   "cell_type": "markdown",
   "metadata": {},
   "source": [
    "Con lo anterior podemos determinar que en la etapa en la que se perdieron mas ausuarios fue en OffersScreenAppear"
   ]
  },
  {
   "cell_type": "markdown",
   "metadata": {},
   "source": [
    " En la etapa que se pierden mas usuarios es en OfferScreenAppear."
   ]
  },
  {
   "cell_type": "code",
   "execution_count": 62,
   "metadata": {},
   "outputs": [
    {
     "name": "stdout",
     "output_type": "stream",
     "text": [
      "El porcentaje de Usuarios que van de la primera etapa a el pago es del: 6.10 %\n"
     ]
    }
   ],
   "source": [
    "n_MainScreenAppear = user_event_filter[step_1].shape[0]\n",
    "n_PaymentScreenSuccessful=  user_event_filter[step_4].shape[0]\n",
    "percent_event=((n_PaymentScreenSuccessful/n_MainScreenAppear)*100)\n",
    "print(f\"El porcentaje de Usuarios que van de la primera etapa a el pago es del: {percent_event:.2f} %\")"
   ]
  },
  {
   "cell_type": "code",
   "execution_count": 63,
   "metadata": {},
   "outputs": [
    {
     "name": "stdout",
     "output_type": "stream",
     "text": [
      "exp_id\n",
      "246    2485\n",
      "247    2517\n",
      "248    2540\n",
      "Name: device_id_hash, dtype: int64\n"
     ]
    }
   ],
   "source": [
    "usuarios_group=data_filter.groupby('exp_id')['device_id_hash'].nunique()\n",
    "print(usuarios_group)"
   ]
  },
  {
   "cell_type": "markdown",
   "metadata": {},
   "source": [
    "En el grupo 246 hay 2485 usuarios, en el 247 2517 y en el 248 2540 usuarios."
   ]
  },
  {
   "cell_type": "code",
   "execution_count": 64,
   "metadata": {},
   "outputs": [],
   "source": [
    "total_usuarios_246=data_filter[data_filter['exp_id']==246]['device_id_hash'].nunique()\n",
    "total_usuarios_247=data_filter[data_filter['exp_id']==247]['device_id_hash'].nunique()\n",
    "conversion_246=data_filter[(data_filter['exp_id']==246)&(data_filter['event_name']=='PaymentScreenSuccessful')]['device_id_hash'].nunique()\n",
    "conversion_247=data_filter[(data_filter['exp_id']==247)&(data_filter['event_name']=='PaymentScreenSuccessful')]['device_id_hash'].nunique()\n",
    "tasa_conversion_246=conversion_246/total_usuarios_246\n",
    "tasa_conversion_247=conversion_247/total_usuarios_247\n"
   ]
  },
  {
   "cell_type": "code",
   "execution_count": 65,
   "metadata": {},
   "outputs": [
    {
     "name": "stdout",
     "output_type": "stream",
     "text": [
      "valor z:1.5887871692043074\n",
      "valor p:0.11210845100173074\n",
      "No se pudo rechazar la hipótesis nula: no hay razón para pensar que las proporciones son diferentes\n"
     ]
    }
   ],
   "source": [
    "convert=[conversion_246,conversion_247]\n",
    "nobs=[total_usuarios_246,total_usuarios_247]\n",
    "stat,p_value=proportions_ztest(convert,nobs)\n",
    "print(f\"valor z:{stat}\")\n",
    "print(f\"valor p:{p_value}\")\n",
    "alpha=0.05\n",
    "if (p_value<alpha):# escribe tu código aquí\n",
    "    print(\"Rechazar la hipótesis nula: hay una diferencia significativa entre las proporciones\")\n",
    "else:\n",
    "    print(\"No se pudo rechazar la hipótesis nula: no hay razón para pensar que las proporciones son diferentes\")\n"
   ]
  },
  {
   "cell_type": "markdown",
   "metadata": {},
   "source": [
    "No hay diferencia significativa entre los dos grupos"
   ]
  },
  {
   "cell_type": "markdown",
   "metadata": {},
   "source": [
    "El evento mas popular con mayor participacion para los dos grupo es el MainScreenAppear."
   ]
  },
  {
   "cell_type": "code",
   "execution_count": 66,
   "metadata": {},
   "outputs": [
    {
     "name": "stdout",
     "output_type": "stream",
     "text": [
      "                event_name   p_value     significancia\n",
      "0         MainScreenAppear  0.586878  No significativa\n",
      "1       OffersScreenAppear  0.274351  No significativa\n",
      "2                 Tutorial  0.879161  No significativa\n",
      "3  PaymentScreenSuccessful  0.112108  No significativa\n",
      "4         CartScreenAppear  0.213061  No significativa\n"
     ]
    }
   ],
   "source": [
    "def statiscal(data_filter):\n",
    "    result=[]\n",
    "    events=data_filter['event_name'].unique()\n",
    "    for event in events:\n",
    "        total_usuarios_246=data_filter[data_filter['exp_id']==246]['device_id_hash'].nunique()\n",
    "        total_usuarios_247=data_filter[data_filter['exp_id']==247]['device_id_hash'].nunique()\n",
    "        conversion_246=data_filter[(data_filter['exp_id']==246)&(data_filter['event_name']==event)]['device_id_hash'].nunique()\n",
    "        conversion_247=data_filter[(data_filter['exp_id']==247)&(data_filter['event_name']==event)]['device_id_hash'].nunique()\n",
    "        tasa_conversion_246=conversion_246/total_usuarios_246\n",
    "        tasa_conversion_247=conversion_247/total_usuarios_247\n",
    "        convert=[conversion_246,conversion_247]\n",
    "        nobs=[total_usuarios_246,total_usuarios_247]\n",
    "        stat,p_value=proportions_ztest(convert,nobs)\n",
    "        result.append({'event_name':event,'p_value':p_value})\n",
    "     \n",
    "    return pd.DataFrame(result)\n",
    "\n",
    "\n",
    "Prueba_246_247=statiscal(data_filter)\n",
    "alpha=0.05\n",
    "Prueba_246_247['significancia']=Prueba_246_247['p_value']<alpha\n",
    "Prueba_246_247['significancia']=Prueba_246_247['significancia'].apply(lambda x:\"significativa\" if x else \"No significativa\")\n",
    "\n",
    "print(Prueba_246_247)\n",
    "\n",
    "                            \n",
    "    \n",
    "    "
   ]
  },
  {
   "cell_type": "markdown",
   "metadata": {},
   "source": [
    "Para ninguno de los eventoses significativa la diferencia."
   ]
  },
  {
   "cell_type": "code",
   "execution_count": 67,
   "metadata": {},
   "outputs": [
    {
     "name": "stdout",
     "output_type": "stream",
     "text": [
      "                event_name   p_value     significancia\n",
      "0         MainScreenAppear  0.341286  No significativa\n",
      "1       OffersScreenAppear  0.226997  No significativa\n",
      "2                 Tutorial  0.923947  No significativa\n",
      "3  PaymentScreenSuccessful  0.223522  No significativa\n",
      "4         CartScreenAppear  0.099417  No significativa\n"
     ]
    }
   ],
   "source": [
    "def statiscal(data_filter):\n",
    "    result=[]\n",
    "    events=data_filter['event_name'].unique()\n",
    "    for event in events:\n",
    "        total_usuarios_246=data_filter[data_filter['exp_id']==246]['device_id_hash'].nunique()\n",
    "        total_usuarios_248=data_filter[data_filter['exp_id']==248]['device_id_hash'].nunique()\n",
    "        conversion_246=data_filter[(data_filter['exp_id']==246)&(data_filter['event_name']==event)]['device_id_hash'].nunique()\n",
    "        conversion_248=data_filter[(data_filter['exp_id']==248)&(data_filter['event_name']==event)]['device_id_hash'].nunique()\n",
    "        tasa_conversion_246=conversion_246/total_usuarios_246\n",
    "        tasa_conversion_248=conversion_248/total_usuarios_248\n",
    "        convert=[conversion_246,conversion_248]\n",
    "        nobs=[total_usuarios_246,total_usuarios_248]\n",
    "        stat,p_value=proportions_ztest(convert,nobs)\n",
    "        result.append({'event_name':event,'p_value':p_value})\n",
    "     \n",
    "    return pd.DataFrame(result)\n",
    "\n",
    "\n",
    "Prueba_246_248=statiscal(data_filter)\n",
    "alpha=0.05\n",
    "Prueba_246_248['significancia']=Prueba_246_248['p_value']<alpha\n",
    "Prueba_246_248['significancia']=Prueba_246_248['significancia'].apply(lambda x:\"significativa\" if x else \"No significativa\")\n",
    "\n",
    "print(Prueba_246_248)\n"
   ]
  },
  {
   "cell_type": "markdown",
   "metadata": {},
   "source": [
    "Para ninguno de los eventoses significativa la diferencia."
   ]
  },
  {
   "cell_type": "code",
   "execution_count": 68,
   "metadata": {},
   "outputs": [
    {
     "name": "stdout",
     "output_type": "stream",
     "text": [
      "                event_name   p_value     significancia\n",
      "0         MainScreenAppear  0.341286  No significativa\n",
      "1       OffersScreenAppear  0.226997  No significativa\n",
      "2                 Tutorial  0.923947  No significativa\n",
      "3  PaymentScreenSuccessful  0.223522  No significativa\n",
      "4         CartScreenAppear  0.099417  No significativa\n"
     ]
    }
   ],
   "source": [
    "def statiscal(data_filter):\n",
    "    result=[]\n",
    "    events=data_filter['event_name'].unique()\n",
    "    for event in events:\n",
    "        total_usuarios_247=data_filter[data_filter['exp_id']==247]['device_id_hash'].nunique()\n",
    "        total_usuarios_248=data_filter[data_filter['exp_id']==248]['device_id_hash'].nunique()\n",
    "        conversion_247=data_filter[(data_filter['exp_id']==247)&(data_filter['event_name']==event)]['device_id_hash'].nunique()\n",
    "        conversion_248=data_filter[(data_filter['exp_id']==248)&(data_filter['event_name']==event)]['device_id_hash'].nunique()\n",
    "        tasa_conversion_247=conversion_246/total_usuarios_247\n",
    "        tasa_conversion_248=conversion_248/total_usuarios_248\n",
    "        convert=[conversion_247,conversion_248]\n",
    "        nobs=[total_usuarios_247,total_usuarios_248]\n",
    "        stat,p_value=proportions_ztest(convert,nobs)\n",
    "        result.append({'event_name':event,'p_value':p_value})\n",
    "     \n",
    "    return pd.DataFrame(result)\n",
    "\n",
    "\n",
    "Prueba_247_248=statiscal(data_filter)\n",
    "alpha=0.05\n",
    "Prueba_247_248['significancia']=Prueba_247_248['p_value']<alpha\n",
    "Prueba_247_248['significancia']=Prueba_247_248['significancia'].apply(lambda x:\"significativa\" if x else \"No significativa\")\n",
    "\n",
    "print(Prueba_246_248)\n",
    "            \n",
    "        "
   ]
  },
  {
   "cell_type": "markdown",
   "metadata": {},
   "source": [
    "Para ninguno de los eventoses significativa la diferencia."
   ]
  },
  {
   "cell_type": "code",
   "execution_count": 69,
   "metadata": {},
   "outputs": [
    {
     "name": "stdout",
     "output_type": "stream",
     "text": [
      "                event_name   p_value     significancia\n",
      "0         MainScreenAppear  0.341286  No significativa\n",
      "1       OffersScreenAppear  0.226997  No significativa\n",
      "2                 Tutorial  0.923947  No significativa\n",
      "3  PaymentScreenSuccessful  0.223522  No significativa\n",
      "4         CartScreenAppear  0.099417     significativa\n"
     ]
    }
   ],
   "source": [
    "def statiscal(data_filter):\n",
    "    result=[]\n",
    "    events=data_filter['event_name'].unique()\n",
    "    for event in events:\n",
    "        total_usuarios_246=data_filter[data_filter['exp_id']==246]['device_id_hash'].nunique()\n",
    "        total_usuarios_248=data_filter[data_filter['exp_id']==248]['device_id_hash'].nunique()\n",
    "        conversion_246=data_filter[(data_filter['exp_id']==246)&(data_filter['event_name']==event)]['device_id_hash'].nunique()\n",
    "        conversion_248=data_filter[(data_filter['exp_id']==248)&(data_filter['event_name']==event)]['device_id_hash'].nunique()\n",
    "        tasa_conversion_246=conversion_246/total_usuarios_246\n",
    "        tasa_conversion_248=conversion_248/total_usuarios_248\n",
    "        convert=[conversion_246,conversion_248]\n",
    "        nobs=[total_usuarios_246,total_usuarios_248]\n",
    "        stat,p_value=proportions_ztest(convert,nobs)\n",
    "        result.append({'event_name':event,'p_value':p_value})\n",
    "     \n",
    "    return pd.DataFrame(result)\n",
    "\n",
    "\n",
    "Prueba_246_248=statiscal(data_filter)\n",
    "alpha=0.1\n",
    "Prueba_246_248['significancia']=Prueba_246_248['p_value']<alpha\n",
    "Prueba_246_248['significancia']=Prueba_246_248['significancia'].apply(lambda x:\"significativa\" if x else \"No significativa\")\n",
    "\n",
    "print(Prueba_246_248)\n"
   ]
  },
  {
   "cell_type": "markdown",
   "metadata": {},
   "source": [
    "Al cambiar el valor el ultimo evento arroja como diferencia significativa."
   ]
  }
 ],
 "metadata": {
  "ExecuteTimeLog": [
   {
    "duration": 4963,
    "start_time": "2024-06-17T14:37:19.784Z"
   },
   {
    "duration": 348,
    "start_time": "2024-06-17T14:38:36.193Z"
   },
   {
    "duration": 35,
    "start_time": "2024-06-17T14:39:02.666Z"
   },
   {
    "duration": 318,
    "start_time": "2024-06-17T14:39:37.755Z"
   },
   {
    "duration": 23,
    "start_time": "2024-06-17T14:39:38.758Z"
   },
   {
    "duration": 960,
    "start_time": "2024-06-17T14:39:44.295Z"
   },
   {
    "duration": 306,
    "start_time": "2024-06-17T14:39:52.074Z"
   },
   {
    "duration": 22,
    "start_time": "2024-06-17T14:39:53.205Z"
   },
   {
    "duration": 310,
    "start_time": "2024-06-17T14:45:02.826Z"
   },
   {
    "duration": 22,
    "start_time": "2024-06-17T14:45:03.859Z"
   },
   {
    "duration": 320,
    "start_time": "2024-06-17T14:50:52.891Z"
   },
   {
    "duration": 23,
    "start_time": "2024-06-17T14:50:53.857Z"
   },
   {
    "duration": 235,
    "start_time": "2024-06-17T14:51:21.838Z"
   },
   {
    "duration": 25,
    "start_time": "2024-06-17T14:51:23.523Z"
   },
   {
    "duration": 15,
    "start_time": "2024-06-17T14:52:06.127Z"
   },
   {
    "duration": 28,
    "start_time": "2024-06-17T14:58:33.498Z"
   },
   {
    "duration": 7,
    "start_time": "2024-06-17T14:58:51.162Z"
   },
   {
    "duration": 35,
    "start_time": "2024-06-17T15:00:16.415Z"
   },
   {
    "duration": 10,
    "start_time": "2024-06-17T15:00:18.884Z"
   },
   {
    "duration": 4,
    "start_time": "2024-06-17T15:00:23.884Z"
   },
   {
    "duration": 283,
    "start_time": "2024-06-17T15:00:25.469Z"
   },
   {
    "duration": 51,
    "start_time": "2024-06-17T15:00:26.793Z"
   },
   {
    "duration": 11,
    "start_time": "2024-06-17T15:00:30.467Z"
   },
   {
    "duration": 39,
    "start_time": "2024-06-17T15:03:06.496Z"
   },
   {
    "duration": 10,
    "start_time": "2024-06-17T15:03:07.323Z"
   },
   {
    "duration": 8,
    "start_time": "2024-06-17T15:03:08.292Z"
   },
   {
    "duration": 8,
    "start_time": "2024-06-17T15:03:10.351Z"
   },
   {
    "duration": 108,
    "start_time": "2024-06-17T15:04:24.632Z"
   },
   {
    "duration": 19,
    "start_time": "2024-06-17T15:04:26.338Z"
   },
   {
    "duration": 4,
    "start_time": "2024-06-17T15:04:46.787Z"
   },
   {
    "duration": 257,
    "start_time": "2024-06-17T15:04:47.527Z"
   },
   {
    "duration": 32,
    "start_time": "2024-06-17T15:04:48.131Z"
   },
   {
    "duration": 11,
    "start_time": "2024-06-17T15:04:48.777Z"
   },
   {
    "duration": 119,
    "start_time": "2024-06-17T15:04:49.463Z"
   },
   {
    "duration": 12,
    "start_time": "2024-06-17T15:04:50.218Z"
   },
   {
    "duration": 27,
    "start_time": "2024-06-17T15:07:52.045Z"
   },
   {
    "duration": 5,
    "start_time": "2024-06-17T15:08:05.949Z"
   },
   {
    "duration": 4,
    "start_time": "2024-06-17T15:10:01.390Z"
   },
   {
    "duration": 734,
    "start_time": "2024-06-17T15:10:24.644Z"
   },
   {
    "duration": 8,
    "start_time": "2024-06-17T15:10:35.365Z"
   },
   {
    "duration": 290,
    "start_time": "2024-06-17T15:10:36.093Z"
   },
   {
    "duration": 48,
    "start_time": "2024-06-17T15:10:36.797Z"
   },
   {
    "duration": 12,
    "start_time": "2024-06-17T15:10:37.762Z"
   },
   {
    "duration": 25,
    "start_time": "2024-06-17T15:10:38.583Z"
   },
   {
    "duration": 4,
    "start_time": "2024-06-17T15:10:40.344Z"
   },
   {
    "duration": 108,
    "start_time": "2024-06-17T15:10:41.775Z"
   },
   {
    "duration": 9,
    "start_time": "2024-06-17T15:10:43.336Z"
   },
   {
    "duration": 45,
    "start_time": "2024-06-17T15:12:04.993Z"
   },
   {
    "duration": 9,
    "start_time": "2024-06-17T15:13:26.561Z"
   },
   {
    "duration": 8,
    "start_time": "2024-06-17T15:15:30.420Z"
   },
   {
    "duration": 67,
    "start_time": "2024-06-17T15:15:35.811Z"
   },
   {
    "duration": 20,
    "start_time": "2024-06-17T15:19:10.807Z"
   },
   {
    "duration": 22,
    "start_time": "2024-06-17T15:19:19.737Z"
   },
   {
    "duration": 21,
    "start_time": "2024-06-17T15:19:45.100Z"
   },
   {
    "duration": 24,
    "start_time": "2024-06-17T15:20:21.626Z"
   },
   {
    "duration": 22,
    "start_time": "2024-06-17T15:20:27.925Z"
   },
   {
    "duration": 24,
    "start_time": "2024-06-17T15:20:40.870Z"
   },
   {
    "duration": 54,
    "start_time": "2024-06-17T15:22:32.370Z"
   },
   {
    "duration": 33,
    "start_time": "2024-06-17T15:22:41.028Z"
   },
   {
    "duration": 35,
    "start_time": "2024-06-17T15:22:51.981Z"
   },
   {
    "duration": 20,
    "start_time": "2024-06-17T15:25:55.304Z"
   },
   {
    "duration": 38,
    "start_time": "2024-06-17T15:26:04.061Z"
   },
   {
    "duration": 35,
    "start_time": "2024-06-17T15:27:14.254Z"
   },
   {
    "duration": 3,
    "start_time": "2024-06-17T15:27:41.539Z"
   },
   {
    "duration": 244,
    "start_time": "2024-06-17T15:27:41.719Z"
   },
   {
    "duration": 40,
    "start_time": "2024-06-17T15:27:41.967Z"
   },
   {
    "duration": 10,
    "start_time": "2024-06-17T15:27:42.081Z"
   },
   {
    "duration": 17,
    "start_time": "2024-06-17T15:27:42.237Z"
   },
   {
    "duration": 4,
    "start_time": "2024-06-17T15:27:42.406Z"
   },
   {
    "duration": 99,
    "start_time": "2024-06-17T15:27:42.582Z"
   },
   {
    "duration": 8,
    "start_time": "2024-06-17T15:27:42.765Z"
   },
   {
    "duration": 27,
    "start_time": "2024-06-17T15:27:42.949Z"
   },
   {
    "duration": 12,
    "start_time": "2024-06-17T15:27:43.166Z"
   },
   {
    "duration": 29,
    "start_time": "2024-06-17T15:27:44.107Z"
   },
   {
    "duration": 36,
    "start_time": "2024-06-17T15:27:45.083Z"
   },
   {
    "duration": 35,
    "start_time": "2024-06-17T15:27:56.936Z"
   },
   {
    "duration": 260,
    "start_time": "2024-06-17T15:29:11.086Z"
   },
   {
    "duration": 329,
    "start_time": "2024-06-17T15:31:29.828Z"
   },
   {
    "duration": 30,
    "start_time": "2024-06-17T15:32:16.520Z"
   },
   {
    "duration": 5,
    "start_time": "2024-06-17T15:32:37.741Z"
   },
   {
    "duration": 271,
    "start_time": "2024-06-17T15:32:38.998Z"
   },
   {
    "duration": 44,
    "start_time": "2024-06-17T15:32:39.273Z"
   },
   {
    "duration": 14,
    "start_time": "2024-06-17T15:32:39.372Z"
   },
   {
    "duration": 29,
    "start_time": "2024-06-17T15:32:39.562Z"
   },
   {
    "duration": 5,
    "start_time": "2024-06-17T15:32:39.780Z"
   },
   {
    "duration": 104,
    "start_time": "2024-06-17T15:32:40.597Z"
   },
   {
    "duration": 9,
    "start_time": "2024-06-17T15:32:41.166Z"
   },
   {
    "duration": 37,
    "start_time": "2024-06-17T15:32:41.896Z"
   },
   {
    "duration": 13,
    "start_time": "2024-06-17T15:32:42.845Z"
   },
   {
    "duration": 28,
    "start_time": "2024-06-17T15:32:43.680Z"
   },
   {
    "duration": 37,
    "start_time": "2024-06-17T15:32:44.563Z"
   },
   {
    "duration": 242,
    "start_time": "2024-06-17T15:32:45.647Z"
   },
   {
    "duration": 40,
    "start_time": "2024-06-17T15:34:35.679Z"
   },
   {
    "duration": 5,
    "start_time": "2024-06-17T15:34:58.259Z"
   },
   {
    "duration": 235,
    "start_time": "2024-06-17T15:34:58.434Z"
   },
   {
    "duration": 34,
    "start_time": "2024-06-17T15:34:58.672Z"
   },
   {
    "duration": 11,
    "start_time": "2024-06-17T15:34:58.787Z"
   },
   {
    "duration": 17,
    "start_time": "2024-06-17T15:34:58.959Z"
   },
   {
    "duration": 4,
    "start_time": "2024-06-17T15:34:59.135Z"
   },
   {
    "duration": 104,
    "start_time": "2024-06-17T15:34:59.301Z"
   },
   {
    "duration": 10,
    "start_time": "2024-06-17T15:34:59.483Z"
   },
   {
    "duration": 27,
    "start_time": "2024-06-17T15:34:59.671Z"
   },
   {
    "duration": 9,
    "start_time": "2024-06-17T15:34:59.838Z"
   },
   {
    "duration": 25,
    "start_time": "2024-06-17T15:35:00.046Z"
   },
   {
    "duration": 51,
    "start_time": "2024-06-17T15:35:00.587Z"
   },
   {
    "duration": 287,
    "start_time": "2024-06-17T15:35:00.798Z"
   },
   {
    "duration": 251,
    "start_time": "2024-06-17T15:35:49.585Z"
   },
   {
    "duration": 7,
    "start_time": "2024-06-17T16:04:47.731Z"
   },
   {
    "duration": 24,
    "start_time": "2024-06-17T16:04:58.391Z"
   },
   {
    "duration": 30,
    "start_time": "2024-06-17T16:05:19.692Z"
   },
   {
    "duration": 35,
    "start_time": "2024-06-17T16:05:36.307Z"
   },
   {
    "duration": 136,
    "start_time": "2024-06-17T16:08:24.475Z"
   },
   {
    "duration": 139,
    "start_time": "2024-06-17T16:10:02.630Z"
   },
   {
    "duration": 73,
    "start_time": "2024-06-17T16:10:17.266Z"
   },
   {
    "duration": 24,
    "start_time": "2024-06-17T16:11:29.195Z"
   },
   {
    "duration": 29,
    "start_time": "2024-06-17T16:11:37.671Z"
   },
   {
    "duration": 76,
    "start_time": "2024-06-17T16:11:39.454Z"
   },
   {
    "duration": 6,
    "start_time": "2024-06-17T16:11:41.226Z"
   },
   {
    "duration": 32,
    "start_time": "2024-06-17T16:11:50.359Z"
   },
   {
    "duration": 24,
    "start_time": "2024-06-17T16:12:44.611Z"
   },
   {
    "duration": 29,
    "start_time": "2024-06-17T16:12:51.899Z"
   },
   {
    "duration": 24,
    "start_time": "2024-06-17T16:13:04.485Z"
   },
   {
    "duration": 30,
    "start_time": "2024-06-17T16:13:15.963Z"
   },
   {
    "duration": 35,
    "start_time": "2024-06-17T16:13:28.260Z"
   },
   {
    "duration": 246,
    "start_time": "2024-06-17T16:13:29.619Z"
   },
   {
    "duration": 1018,
    "start_time": "2024-06-17T16:16:11.836Z"
   },
   {
    "duration": 2954,
    "start_time": "2024-06-17T16:16:44.733Z"
   },
   {
    "duration": 2785,
    "start_time": "2024-06-17T16:16:58.846Z"
   },
   {
    "duration": 72,
    "start_time": "2024-06-17T16:18:45.832Z"
   },
   {
    "duration": 5086,
    "start_time": "2024-06-18T14:40:42.113Z"
   },
   {
    "duration": 279,
    "start_time": "2024-06-18T14:40:47.203Z"
   },
   {
    "duration": 35,
    "start_time": "2024-06-18T14:40:47.486Z"
   },
   {
    "duration": 17,
    "start_time": "2024-06-18T14:40:47.526Z"
   },
   {
    "duration": 20,
    "start_time": "2024-06-18T14:40:47.546Z"
   },
   {
    "duration": 4,
    "start_time": "2024-06-18T14:40:47.569Z"
   },
   {
    "duration": 103,
    "start_time": "2024-06-18T14:40:47.612Z"
   },
   {
    "duration": 9,
    "start_time": "2024-06-18T14:40:47.717Z"
   },
   {
    "duration": 34,
    "start_time": "2024-06-18T14:40:47.730Z"
   },
   {
    "duration": 102,
    "start_time": "2024-06-18T14:40:47.769Z"
   },
   {
    "duration": 38,
    "start_time": "2024-06-18T14:40:47.874Z"
   },
   {
    "duration": 37,
    "start_time": "2024-06-18T14:40:47.915Z"
   },
   {
    "duration": 303,
    "start_time": "2024-06-18T14:40:47.955Z"
   },
   {
    "duration": 118,
    "start_time": "2024-06-18T14:40:48.262Z"
   },
   {
    "duration": 5,
    "start_time": "2024-06-18T14:58:21.877Z"
   },
   {
    "duration": 241,
    "start_time": "2024-06-18T14:58:22.057Z"
   },
   {
    "duration": 34,
    "start_time": "2024-06-18T14:58:22.303Z"
   },
   {
    "duration": 11,
    "start_time": "2024-06-18T14:58:22.384Z"
   },
   {
    "duration": 17,
    "start_time": "2024-06-18T14:58:22.560Z"
   },
   {
    "duration": 4,
    "start_time": "2024-06-18T14:58:22.727Z"
   },
   {
    "duration": 92,
    "start_time": "2024-06-18T14:58:22.886Z"
   },
   {
    "duration": 8,
    "start_time": "2024-06-18T14:58:23.052Z"
   },
   {
    "duration": 34,
    "start_time": "2024-06-18T14:58:23.231Z"
   },
   {
    "duration": 74,
    "start_time": "2024-06-18T14:58:23.396Z"
   },
   {
    "duration": 25,
    "start_time": "2024-06-18T14:58:23.582Z"
   },
   {
    "duration": 34,
    "start_time": "2024-06-18T14:58:23.761Z"
   },
   {
    "duration": 324,
    "start_time": "2024-06-18T14:58:23.961Z"
   },
   {
    "duration": 130,
    "start_time": "2024-06-18T14:58:24.290Z"
   },
   {
    "duration": 9,
    "start_time": "2024-06-18T15:05:40.869Z"
   },
   {
    "duration": 890,
    "start_time": "2024-06-18T15:05:58.969Z"
   },
   {
    "duration": 12,
    "start_time": "2024-06-18T15:06:16.221Z"
   },
   {
    "duration": 7,
    "start_time": "2024-06-18T15:06:52.259Z"
   },
   {
    "duration": 14,
    "start_time": "2024-06-18T15:06:59.818Z"
   },
   {
    "duration": 6,
    "start_time": "2024-06-18T15:08:48.345Z"
   },
   {
    "duration": 13,
    "start_time": "2024-06-18T15:08:56.784Z"
   },
   {
    "duration": 18,
    "start_time": "2024-06-18T15:10:32.289Z"
   },
   {
    "duration": 4,
    "start_time": "2024-06-18T15:15:15.185Z"
   },
   {
    "duration": 6,
    "start_time": "2024-06-18T15:15:35.765Z"
   },
   {
    "duration": 22,
    "start_time": "2024-06-18T15:16:04.766Z"
   },
   {
    "duration": 1132,
    "start_time": "2024-06-18T15:16:30.167Z"
   },
   {
    "duration": 83,
    "start_time": "2024-06-18T15:16:57.962Z"
   },
   {
    "duration": 13,
    "start_time": "2024-06-18T15:18:29.961Z"
   },
   {
    "duration": 20,
    "start_time": "2024-06-18T15:25:13.369Z"
   },
   {
    "duration": 16,
    "start_time": "2024-06-18T15:30:48.154Z"
   },
   {
    "duration": 24,
    "start_time": "2024-06-18T15:31:06.467Z"
   },
   {
    "duration": 56,
    "start_time": "2024-06-18T15:34:18.974Z"
   },
   {
    "duration": 16,
    "start_time": "2024-06-18T15:34:47.230Z"
   },
   {
    "duration": 20,
    "start_time": "2024-06-18T15:35:44.029Z"
   },
   {
    "duration": 21,
    "start_time": "2024-06-18T15:37:22.543Z"
   },
   {
    "duration": 9,
    "start_time": "2024-06-18T15:38:14.402Z"
   },
   {
    "duration": 22,
    "start_time": "2024-06-18T15:38:20.149Z"
   },
   {
    "duration": 21,
    "start_time": "2024-06-18T15:38:29.517Z"
   },
   {
    "duration": 21,
    "start_time": "2024-06-18T15:38:59.736Z"
   },
   {
    "duration": 22,
    "start_time": "2024-06-18T15:40:04.335Z"
   },
   {
    "duration": 21,
    "start_time": "2024-06-18T15:40:24.825Z"
   },
   {
    "duration": 329,
    "start_time": "2024-06-18T15:44:45.853Z"
   },
   {
    "duration": 6,
    "start_time": "2024-06-18T15:45:05.235Z"
   },
   {
    "duration": 83,
    "start_time": "2024-06-18T15:45:21.832Z"
   },
   {
    "duration": 68,
    "start_time": "2024-06-18T15:48:04.484Z"
   },
   {
    "duration": 74,
    "start_time": "2024-06-18T15:50:14.588Z"
   },
   {
    "duration": 89,
    "start_time": "2024-06-18T15:55:43.978Z"
   },
   {
    "duration": 81,
    "start_time": "2024-06-18T15:57:16.706Z"
   },
   {
    "duration": 34,
    "start_time": "2024-06-18T16:01:54.830Z"
   },
   {
    "duration": 67,
    "start_time": "2024-06-18T16:02:08.708Z"
   },
   {
    "duration": 74,
    "start_time": "2024-06-18T16:02:20.132Z"
   },
   {
    "duration": 73,
    "start_time": "2024-06-18T16:03:48.189Z"
   },
   {
    "duration": 10,
    "start_time": "2024-06-18T16:06:50.506Z"
   },
   {
    "duration": 9,
    "start_time": "2024-06-18T16:08:32.470Z"
   },
   {
    "duration": 10,
    "start_time": "2024-06-18T16:13:28.781Z"
   },
   {
    "duration": 9,
    "start_time": "2024-06-18T16:13:48.941Z"
   },
   {
    "duration": 72,
    "start_time": "2024-06-18T16:14:37.379Z"
   },
   {
    "duration": 9,
    "start_time": "2024-06-18T16:18:16.800Z"
   },
   {
    "duration": 24,
    "start_time": "2024-06-18T16:18:37.685Z"
   },
   {
    "duration": 46,
    "start_time": "2024-06-18T16:18:40.292Z"
   },
   {
    "duration": 24,
    "start_time": "2024-06-18T16:19:15.389Z"
   },
   {
    "duration": 5,
    "start_time": "2024-06-18T16:19:54.922Z"
   },
   {
    "duration": 8,
    "start_time": "2024-06-18T16:22:55.274Z"
   },
   {
    "duration": 11,
    "start_time": "2024-06-18T16:23:11.448Z"
   },
   {
    "duration": 11,
    "start_time": "2024-06-18T16:23:21.532Z"
   },
   {
    "duration": 35,
    "start_time": "2024-06-18T16:25:55.857Z"
   },
   {
    "duration": 38,
    "start_time": "2024-06-18T16:26:06.173Z"
   },
   {
    "duration": 71,
    "start_time": "2024-06-18T16:26:35.311Z"
   },
   {
    "duration": 46,
    "start_time": "2024-06-18T16:27:16.759Z"
   },
   {
    "duration": 78,
    "start_time": "2024-06-18T16:27:22.064Z"
   },
   {
    "duration": 66,
    "start_time": "2024-06-18T16:27:26.630Z"
   },
   {
    "duration": 10,
    "start_time": "2024-06-18T16:27:27.591Z"
   },
   {
    "duration": 67,
    "start_time": "2024-06-18T16:30:10.657Z"
   },
   {
    "duration": 87,
    "start_time": "2024-06-18T16:30:47.970Z"
   },
   {
    "duration": 67,
    "start_time": "2024-06-18T16:31:02.853Z"
   },
   {
    "duration": 76,
    "start_time": "2024-06-18T16:36:45.294Z"
   },
   {
    "duration": 73,
    "start_time": "2024-06-18T16:37:34.261Z"
   },
   {
    "duration": 71,
    "start_time": "2024-06-18T16:37:43.537Z"
   },
   {
    "duration": 8,
    "start_time": "2024-06-18T16:38:02.441Z"
   },
   {
    "duration": 76,
    "start_time": "2024-06-18T16:38:06.017Z"
   },
   {
    "duration": 87,
    "start_time": "2024-06-18T16:38:18.729Z"
   },
   {
    "duration": 87,
    "start_time": "2024-06-18T16:39:01.375Z"
   },
   {
    "duration": 72,
    "start_time": "2024-06-18T16:39:07.653Z"
   },
   {
    "duration": 92,
    "start_time": "2024-06-18T16:39:24.938Z"
   },
   {
    "duration": 101,
    "start_time": "2024-06-18T16:39:30.928Z"
   },
   {
    "duration": 80,
    "start_time": "2024-06-18T16:39:52.282Z"
   },
   {
    "duration": 74,
    "start_time": "2024-06-18T16:41:07.541Z"
   },
   {
    "duration": 81,
    "start_time": "2024-06-18T16:41:53.833Z"
   },
   {
    "duration": 26,
    "start_time": "2024-06-18T16:49:27.232Z"
   },
   {
    "duration": 31,
    "start_time": "2024-06-18T16:50:29.865Z"
   },
   {
    "duration": 38,
    "start_time": "2024-06-18T16:53:00.325Z"
   },
   {
    "duration": 66,
    "start_time": "2024-06-18T16:53:51.665Z"
   },
   {
    "duration": 69,
    "start_time": "2024-06-18T16:53:59.844Z"
   },
   {
    "duration": 29,
    "start_time": "2024-06-18T17:03:51.375Z"
   },
   {
    "duration": 9,
    "start_time": "2024-06-18T17:04:13.590Z"
   },
   {
    "duration": 9,
    "start_time": "2024-06-18T17:04:35.504Z"
   },
   {
    "duration": 33,
    "start_time": "2024-06-18T17:05:07.950Z"
   },
   {
    "duration": 30,
    "start_time": "2024-06-18T17:05:23.126Z"
   },
   {
    "duration": 9,
    "start_time": "2024-06-18T17:05:33.339Z"
   },
   {
    "duration": 11,
    "start_time": "2024-06-18T17:05:54.466Z"
   },
   {
    "duration": 10,
    "start_time": "2024-06-18T17:06:00.125Z"
   },
   {
    "duration": 11,
    "start_time": "2024-06-18T17:06:51.367Z"
   },
   {
    "duration": 30,
    "start_time": "2024-06-18T17:07:06.374Z"
   },
   {
    "duration": 12,
    "start_time": "2024-06-18T17:07:13.747Z"
   },
   {
    "duration": 8,
    "start_time": "2024-06-18T17:07:23.483Z"
   },
   {
    "duration": 7,
    "start_time": "2024-06-18T17:07:33.145Z"
   },
   {
    "duration": 30,
    "start_time": "2024-06-18T17:07:59.452Z"
   },
   {
    "duration": 8,
    "start_time": "2024-06-18T17:08:08.552Z"
   },
   {
    "duration": 10,
    "start_time": "2024-06-18T17:08:16.851Z"
   },
   {
    "duration": 7,
    "start_time": "2024-06-18T17:08:28.378Z"
   },
   {
    "duration": 31,
    "start_time": "2024-06-18T17:08:37.750Z"
   },
   {
    "duration": 10,
    "start_time": "2024-06-18T17:08:52.817Z"
   },
   {
    "duration": 11,
    "start_time": "2024-06-18T17:09:15.399Z"
   },
   {
    "duration": 5040,
    "start_time": "2024-06-19T14:18:31.642Z"
   },
   {
    "duration": 260,
    "start_time": "2024-06-19T14:18:36.687Z"
   },
   {
    "duration": 26,
    "start_time": "2024-06-19T14:18:36.953Z"
   },
   {
    "duration": 15,
    "start_time": "2024-06-19T14:18:36.984Z"
   },
   {
    "duration": 45,
    "start_time": "2024-06-19T14:18:37.002Z"
   },
   {
    "duration": 4,
    "start_time": "2024-06-19T14:18:37.050Z"
   },
   {
    "duration": 130,
    "start_time": "2024-06-19T14:18:37.057Z"
   },
   {
    "duration": 8,
    "start_time": "2024-06-19T14:18:37.190Z"
   },
   {
    "duration": 8,
    "start_time": "2024-06-19T14:18:37.202Z"
   },
   {
    "duration": 13,
    "start_time": "2024-06-19T14:18:37.235Z"
   },
   {
    "duration": 11,
    "start_time": "2024-06-19T14:18:37.251Z"
   },
   {
    "duration": 69,
    "start_time": "2024-06-19T14:18:37.265Z"
   },
   {
    "duration": 297,
    "start_time": "2024-06-19T14:18:37.338Z"
   },
   {
    "duration": 95,
    "start_time": "2024-06-19T14:18:37.638Z"
   },
   {
    "duration": 47,
    "start_time": "2024-06-19T14:18:37.736Z"
   },
   {
    "duration": 58,
    "start_time": "2024-06-19T14:18:37.786Z"
   },
   {
    "duration": 86,
    "start_time": "2024-06-19T14:18:37.848Z"
   },
   {
    "duration": 81,
    "start_time": "2024-06-19T14:18:37.938Z"
   },
   {
    "duration": 10,
    "start_time": "2024-06-19T14:18:38.034Z"
   },
   {
    "duration": 11,
    "start_time": "2024-06-19T14:18:38.047Z"
   },
   {
    "duration": 77,
    "start_time": "2024-06-19T14:24:23.933Z"
   },
   {
    "duration": 71,
    "start_time": "2024-06-19T14:24:32.274Z"
   },
   {
    "duration": 35,
    "start_time": "2024-06-19T14:25:35.127Z"
   },
   {
    "duration": 35,
    "start_time": "2024-06-19T14:25:56.931Z"
   },
   {
    "duration": 70,
    "start_time": "2024-06-19T14:26:07.286Z"
   },
   {
    "duration": 1299,
    "start_time": "2024-06-19T14:28:58.443Z"
   },
   {
    "duration": 489,
    "start_time": "2024-06-19T14:29:06.407Z"
   },
   {
    "duration": 156,
    "start_time": "2024-06-19T14:29:25.347Z"
   },
   {
    "duration": 211,
    "start_time": "2024-06-19T14:29:40.925Z"
   },
   {
    "duration": 9,
    "start_time": "2024-06-19T14:30:02.262Z"
   },
   {
    "duration": 210,
    "start_time": "2024-06-19T14:30:11.903Z"
   },
   {
    "duration": 149,
    "start_time": "2024-06-19T14:30:17.992Z"
   },
   {
    "duration": 209,
    "start_time": "2024-06-19T14:30:48.612Z"
   },
   {
    "duration": 78,
    "start_time": "2024-06-19T14:31:02.633Z"
   },
   {
    "duration": 122,
    "start_time": "2024-06-19T14:31:54.868Z"
   },
   {
    "duration": 83,
    "start_time": "2024-06-19T14:32:14.858Z"
   },
   {
    "duration": 28,
    "start_time": "2024-06-19T14:34:49.778Z"
   },
   {
    "duration": 560,
    "start_time": "2024-06-19T14:35:15.984Z"
   },
   {
    "duration": 92,
    "start_time": "2024-06-19T14:35:33.212Z"
   },
   {
    "duration": 43,
    "start_time": "2024-06-19T14:36:31.927Z"
   },
   {
    "duration": 33,
    "start_time": "2024-06-19T14:36:40.129Z"
   },
   {
    "duration": 36,
    "start_time": "2024-06-19T14:37:03.263Z"
   },
   {
    "duration": 326,
    "start_time": "2024-06-19T14:38:00.509Z"
   },
   {
    "duration": 11,
    "start_time": "2024-06-19T14:38:08.034Z"
   },
   {
    "duration": 13,
    "start_time": "2024-06-19T14:38:18.505Z"
   },
   {
    "duration": 14,
    "start_time": "2024-06-19T14:39:04.556Z"
   },
   {
    "duration": 14,
    "start_time": "2024-06-19T14:39:34.893Z"
   },
   {
    "duration": 6,
    "start_time": "2024-06-19T14:39:58.554Z"
   },
   {
    "duration": 16,
    "start_time": "2024-06-19T14:40:12.601Z"
   },
   {
    "duration": 11,
    "start_time": "2024-06-19T14:42:17.300Z"
   },
   {
    "duration": 9,
    "start_time": "2024-06-19T14:42:39.734Z"
   },
   {
    "duration": 11,
    "start_time": "2024-06-19T14:43:00.679Z"
   },
   {
    "duration": 75,
    "start_time": "2024-06-19T14:43:54.030Z"
   },
   {
    "duration": 72,
    "start_time": "2024-06-19T14:44:05.842Z"
   },
   {
    "duration": 88,
    "start_time": "2024-06-19T14:45:09.878Z"
   },
   {
    "duration": 36,
    "start_time": "2024-06-19T14:46:22.976Z"
   },
   {
    "duration": 39,
    "start_time": "2024-06-19T14:46:37.113Z"
   },
   {
    "duration": 6,
    "start_time": "2024-06-19T14:55:32.726Z"
   },
   {
    "duration": 6,
    "start_time": "2024-06-19T14:55:42.068Z"
   },
   {
    "duration": 7,
    "start_time": "2024-06-19T14:56:25.201Z"
   },
   {
    "duration": 6,
    "start_time": "2024-06-19T14:57:11.427Z"
   },
   {
    "duration": 9,
    "start_time": "2024-06-19T14:57:17.321Z"
   },
   {
    "duration": 7,
    "start_time": "2024-06-19T14:57:40.883Z"
   },
   {
    "duration": 28,
    "start_time": "2024-06-19T14:57:56.484Z"
   },
   {
    "duration": 28,
    "start_time": "2024-06-19T14:59:31.258Z"
   },
   {
    "duration": 151,
    "start_time": "2024-06-19T14:59:59.606Z"
   },
   {
    "duration": 27,
    "start_time": "2024-06-19T15:00:18.508Z"
   },
   {
    "duration": 7,
    "start_time": "2024-06-19T15:08:26.398Z"
   },
   {
    "duration": 7,
    "start_time": "2024-06-19T15:09:20.106Z"
   },
   {
    "duration": 9,
    "start_time": "2024-06-19T15:09:25.829Z"
   },
   {
    "duration": 7,
    "start_time": "2024-06-19T15:09:50.064Z"
   },
   {
    "duration": 5,
    "start_time": "2024-06-19T15:09:55.792Z"
   },
   {
    "duration": 7,
    "start_time": "2024-06-19T15:10:21.317Z"
   },
   {
    "duration": 10,
    "start_time": "2024-06-19T15:10:28.120Z"
   },
   {
    "duration": 7,
    "start_time": "2024-06-19T15:11:22.881Z"
   },
   {
    "duration": 39,
    "start_time": "2024-06-19T15:12:39.782Z"
   },
   {
    "duration": 36,
    "start_time": "2024-06-19T15:12:48.935Z"
   },
   {
    "duration": 19,
    "start_time": "2024-06-19T15:23:52.804Z"
   },
   {
    "duration": 4,
    "start_time": "2024-06-19T15:25:21.994Z"
   },
   {
    "duration": 39,
    "start_time": "2024-06-19T15:26:55.337Z"
   },
   {
    "duration": 4,
    "start_time": "2024-06-19T15:27:29.597Z"
   },
   {
    "duration": 6423,
    "start_time": "2024-06-19T15:27:37.770Z"
   },
   {
    "duration": 109,
    "start_time": "2024-06-19T15:28:56.786Z"
   },
   {
    "duration": 27,
    "start_time": "2024-06-19T15:29:45.564Z"
   },
   {
    "duration": 23,
    "start_time": "2024-06-19T15:34:37.851Z"
   },
   {
    "duration": 24,
    "start_time": "2024-06-19T15:35:55.744Z"
   },
   {
    "duration": 25,
    "start_time": "2024-06-19T15:36:12.371Z"
   },
   {
    "duration": 25,
    "start_time": "2024-06-19T15:37:53.563Z"
   },
   {
    "duration": 24,
    "start_time": "2024-06-19T15:38:30.137Z"
   },
   {
    "duration": 25,
    "start_time": "2024-06-19T15:39:52.884Z"
   },
   {
    "duration": 30,
    "start_time": "2024-06-19T15:41:00.575Z"
   },
   {
    "duration": 27,
    "start_time": "2024-06-19T15:41:11.623Z"
   },
   {
    "duration": 2759,
    "start_time": "2024-06-19T15:46:03.775Z"
   },
   {
    "duration": 33,
    "start_time": "2024-06-19T15:49:17.760Z"
   },
   {
    "duration": 29,
    "start_time": "2024-06-19T15:49:34.992Z"
   },
   {
    "duration": 2770,
    "start_time": "2024-06-19T15:49:51.766Z"
   },
   {
    "duration": 24,
    "start_time": "2024-06-19T15:50:39.129Z"
   },
   {
    "duration": 26,
    "start_time": "2024-06-19T15:51:01.788Z"
   },
   {
    "duration": 23,
    "start_time": "2024-06-19T15:52:52.518Z"
   },
   {
    "duration": 23,
    "start_time": "2024-06-19T15:53:14.386Z"
   },
   {
    "duration": 24,
    "start_time": "2024-06-19T15:54:49.582Z"
   },
   {
    "duration": 23,
    "start_time": "2024-06-19T15:54:58.762Z"
   },
   {
    "duration": 23,
    "start_time": "2024-06-19T15:55:27.916Z"
   },
   {
    "duration": 39,
    "start_time": "2024-06-19T15:56:26.667Z"
   },
   {
    "duration": 53,
    "start_time": "2024-06-19T15:56:41.798Z"
   },
   {
    "duration": 61,
    "start_time": "2024-06-19T15:57:55.873Z"
   },
   {
    "duration": 81,
    "start_time": "2024-06-19T15:58:07.006Z"
   },
   {
    "duration": 43,
    "start_time": "2024-06-19T15:58:34.853Z"
   },
   {
    "duration": 59,
    "start_time": "2024-06-19T15:58:44.068Z"
   },
   {
    "duration": 43,
    "start_time": "2024-06-19T15:59:00.408Z"
   },
   {
    "duration": 78,
    "start_time": "2024-06-19T16:15:37.075Z"
   },
   {
    "duration": 45,
    "start_time": "2024-06-19T16:16:12.733Z"
   },
   {
    "duration": 128,
    "start_time": "2024-06-19T16:16:42.177Z"
   },
   {
    "duration": 70,
    "start_time": "2024-06-19T16:17:12.423Z"
   },
   {
    "duration": 48,
    "start_time": "2024-06-19T16:17:22.398Z"
   },
   {
    "duration": 9,
    "start_time": "2024-06-19T16:34:47.925Z"
   },
   {
    "duration": 8,
    "start_time": "2024-06-19T16:36:21.094Z"
   },
   {
    "duration": 7,
    "start_time": "2024-06-19T16:36:27.584Z"
   },
   {
    "duration": 7,
    "start_time": "2024-06-19T16:36:32.389Z"
   },
   {
    "duration": 7,
    "start_time": "2024-06-19T16:36:39.722Z"
   },
   {
    "duration": 7,
    "start_time": "2024-06-19T16:37:19.786Z"
   },
   {
    "duration": 8,
    "start_time": "2024-06-19T16:37:31.483Z"
   },
   {
    "duration": 8,
    "start_time": "2024-06-19T16:37:55.334Z"
   },
   {
    "duration": 6,
    "start_time": "2024-06-19T16:38:00.745Z"
   },
   {
    "duration": 6,
    "start_time": "2024-06-19T16:38:04.563Z"
   },
   {
    "duration": 6,
    "start_time": "2024-06-19T16:38:08.848Z"
   },
   {
    "duration": 7,
    "start_time": "2024-06-19T16:38:13.158Z"
   },
   {
    "duration": 10,
    "start_time": "2024-06-19T16:38:45.654Z"
   },
   {
    "duration": 9,
    "start_time": "2024-06-19T16:38:54.393Z"
   },
   {
    "duration": 9,
    "start_time": "2024-06-19T16:38:59.892Z"
   },
   {
    "duration": 8,
    "start_time": "2024-06-19T16:39:05.496Z"
   },
   {
    "duration": 9,
    "start_time": "2024-06-19T16:39:13.613Z"
   },
   {
    "duration": 9,
    "start_time": "2024-06-19T16:39:19.103Z"
   },
   {
    "duration": 9,
    "start_time": "2024-06-19T16:39:29.178Z"
   },
   {
    "duration": 9,
    "start_time": "2024-06-19T16:40:56.469Z"
   },
   {
    "duration": 9,
    "start_time": "2024-06-19T16:42:06.868Z"
   },
   {
    "duration": 45,
    "start_time": "2024-06-19T16:42:25.115Z"
   },
   {
    "duration": 7,
    "start_time": "2024-06-19T16:50:05.029Z"
   },
   {
    "duration": 9,
    "start_time": "2024-06-19T16:51:00.551Z"
   },
   {
    "duration": 8,
    "start_time": "2024-06-19T16:51:06.141Z"
   },
   {
    "duration": 42,
    "start_time": "2024-06-19T16:51:27.971Z"
   },
   {
    "duration": 8,
    "start_time": "2024-06-19T16:51:39.652Z"
   },
   {
    "duration": 9,
    "start_time": "2024-06-19T16:53:19.165Z"
   },
   {
    "duration": 88,
    "start_time": "2024-06-19T16:54:50.239Z"
   },
   {
    "duration": 90,
    "start_time": "2024-06-19T16:55:25.706Z"
   },
   {
    "duration": 80,
    "start_time": "2024-06-19T16:57:12.195Z"
   },
   {
    "duration": 81,
    "start_time": "2024-06-19T16:58:40.215Z"
   },
   {
    "duration": 5,
    "start_time": "2024-06-19T16:59:06.646Z"
   },
   {
    "duration": 7,
    "start_time": "2024-06-19T16:59:20.428Z"
   },
   {
    "duration": 38,
    "start_time": "2024-06-19T16:59:46.760Z"
   },
   {
    "duration": 39,
    "start_time": "2024-06-19T16:59:54.835Z"
   },
   {
    "duration": 7,
    "start_time": "2024-06-19T17:00:46.128Z"
   },
   {
    "duration": 40,
    "start_time": "2024-06-19T17:01:01.473Z"
   },
   {
    "duration": 76,
    "start_time": "2024-06-19T17:01:52.159Z"
   },
   {
    "duration": 74,
    "start_time": "2024-06-19T17:02:56.373Z"
   },
   {
    "duration": 142,
    "start_time": "2024-06-19T17:03:30.543Z"
   },
   {
    "duration": 150,
    "start_time": "2024-06-19T17:04:45.652Z"
   },
   {
    "duration": 342,
    "start_time": "2024-06-19T17:04:58.527Z"
   },
   {
    "duration": 332,
    "start_time": "2024-06-19T17:09:19.525Z"
   },
   {
    "duration": 355,
    "start_time": "2024-06-19T17:09:37.299Z"
   },
   {
    "duration": 348,
    "start_time": "2024-06-19T17:09:58.173Z"
   },
   {
    "duration": 340,
    "start_time": "2024-06-19T17:15:59.341Z"
   },
   {
    "duration": 346,
    "start_time": "2024-06-19T17:16:30.758Z"
   },
   {
    "duration": 345,
    "start_time": "2024-06-19T17:17:56.443Z"
   },
   {
    "duration": 334,
    "start_time": "2024-06-19T17:18:28.631Z"
   },
   {
    "duration": 335,
    "start_time": "2024-06-19T17:18:44.162Z"
   },
   {
    "duration": 12,
    "start_time": "2024-06-19T17:21:36.773Z"
   },
   {
    "duration": 343,
    "start_time": "2024-06-19T17:22:15.248Z"
   },
   {
    "duration": 358,
    "start_time": "2024-06-19T17:22:44.206Z"
   },
   {
    "duration": 343,
    "start_time": "2024-06-19T17:25:06.581Z"
   },
   {
    "duration": 145,
    "start_time": "2024-06-19T17:28:02.969Z"
   },
   {
    "duration": 144,
    "start_time": "2024-06-19T17:28:38.637Z"
   },
   {
    "duration": 351,
    "start_time": "2024-06-19T17:29:08.154Z"
   },
   {
    "duration": 444,
    "start_time": "2024-06-19T17:30:17.876Z"
   },
   {
    "duration": 354,
    "start_time": "2024-06-19T17:30:50.619Z"
   },
   {
    "duration": 348,
    "start_time": "2024-06-19T17:32:14.606Z"
   },
   {
    "duration": 435,
    "start_time": "2024-06-19T17:33:47.076Z"
   },
   {
    "duration": 346,
    "start_time": "2024-06-19T17:34:02.573Z"
   },
   {
    "duration": 359,
    "start_time": "2024-06-19T17:36:18.538Z"
   },
   {
    "duration": 5178,
    "start_time": "2024-06-20T14:15:12.273Z"
   },
   {
    "duration": 265,
    "start_time": "2024-06-20T14:15:17.455Z"
   },
   {
    "duration": 25,
    "start_time": "2024-06-20T14:15:17.724Z"
   },
   {
    "duration": 14,
    "start_time": "2024-06-20T14:15:17.754Z"
   },
   {
    "duration": 17,
    "start_time": "2024-06-20T14:15:17.771Z"
   },
   {
    "duration": 4,
    "start_time": "2024-06-20T14:15:17.824Z"
   },
   {
    "duration": 113,
    "start_time": "2024-06-20T14:15:17.831Z"
   },
   {
    "duration": 9,
    "start_time": "2024-06-20T14:15:17.947Z"
   },
   {
    "duration": 5,
    "start_time": "2024-06-20T14:15:17.959Z"
   },
   {
    "duration": 12,
    "start_time": "2024-06-20T14:15:17.972Z"
   },
   {
    "duration": 10,
    "start_time": "2024-06-20T14:15:18.024Z"
   },
   {
    "duration": 35,
    "start_time": "2024-06-20T14:15:18.037Z"
   },
   {
    "duration": 323,
    "start_time": "2024-06-20T14:15:18.075Z"
   },
   {
    "duration": 90,
    "start_time": "2024-06-20T14:15:18.402Z"
   },
   {
    "duration": 66,
    "start_time": "2024-06-20T14:15:18.495Z"
   },
   {
    "duration": 39,
    "start_time": "2024-06-20T14:15:18.564Z"
   },
   {
    "duration": 69,
    "start_time": "2024-06-20T14:15:18.624Z"
   },
   {
    "duration": 106,
    "start_time": "2024-06-20T14:15:18.696Z"
   },
   {
    "duration": 19,
    "start_time": "2024-06-20T14:15:18.806Z"
   },
   {
    "duration": 74,
    "start_time": "2024-06-20T14:15:18.828Z"
   },
   {
    "duration": 24,
    "start_time": "2024-06-20T14:15:18.904Z"
   },
   {
    "duration": 37,
    "start_time": "2024-06-20T14:15:18.932Z"
   },
   {
    "duration": 55,
    "start_time": "2024-06-20T14:15:18.972Z"
   },
   {
    "duration": 48,
    "start_time": "2024-06-20T14:15:19.030Z"
   },
   {
    "duration": 568,
    "start_time": "2024-06-20T14:15:19.082Z"
   },
   {
    "duration": 10,
    "start_time": "2024-06-20T14:32:14.695Z"
   },
   {
    "duration": 6,
    "start_time": "2024-06-20T14:32:57.689Z"
   },
   {
    "duration": 6,
    "start_time": "2024-06-20T14:33:40.055Z"
   },
   {
    "duration": 7,
    "start_time": "2024-06-20T14:34:03.080Z"
   },
   {
    "duration": 8,
    "start_time": "2024-06-20T14:34:11.763Z"
   },
   {
    "duration": 6,
    "start_time": "2024-06-20T14:34:21.855Z"
   },
   {
    "duration": 7,
    "start_time": "2024-06-20T14:35:23.862Z"
   },
   {
    "duration": 6,
    "start_time": "2024-06-20T14:35:32.301Z"
   },
   {
    "duration": 7,
    "start_time": "2024-06-20T14:35:38.462Z"
   },
   {
    "duration": 7,
    "start_time": "2024-06-20T14:35:45.658Z"
   },
   {
    "duration": 8,
    "start_time": "2024-06-20T14:36:08.219Z"
   },
   {
    "duration": 7,
    "start_time": "2024-06-20T14:36:20.270Z"
   },
   {
    "duration": 14,
    "start_time": "2024-06-20T14:42:49.934Z"
   },
   {
    "duration": 337,
    "start_time": "2024-06-20T14:43:06.279Z"
   },
   {
    "duration": 16,
    "start_time": "2024-06-20T14:45:22.163Z"
   },
   {
    "duration": 14,
    "start_time": "2024-06-20T14:46:39.777Z"
   },
   {
    "duration": 344,
    "start_time": "2024-06-20T14:46:50.769Z"
   },
   {
    "duration": 378,
    "start_time": "2024-06-20T14:48:06.270Z"
   },
   {
    "duration": 361,
    "start_time": "2024-06-20T14:50:24.552Z"
   },
   {
    "duration": 359,
    "start_time": "2024-06-20T14:51:07.005Z"
   },
   {
    "duration": 374,
    "start_time": "2024-06-20T14:51:36.041Z"
   },
   {
    "duration": 356,
    "start_time": "2024-06-20T14:51:50.133Z"
   },
   {
    "duration": 385,
    "start_time": "2024-06-20T14:52:17.330Z"
   },
   {
    "duration": 14,
    "start_time": "2024-06-20T14:53:58.304Z"
   },
   {
    "duration": 1398,
    "start_time": "2024-06-20T14:57:12.369Z"
   },
   {
    "duration": 348,
    "start_time": "2024-06-20T14:58:04.220Z"
   },
   {
    "duration": 353,
    "start_time": "2024-06-20T14:59:30.500Z"
   },
   {
    "duration": 343,
    "start_time": "2024-06-20T15:01:47.870Z"
   },
   {
    "duration": 359,
    "start_time": "2024-06-20T15:02:59.840Z"
   },
   {
    "duration": 341,
    "start_time": "2024-06-20T15:03:54.691Z"
   },
   {
    "duration": 349,
    "start_time": "2024-06-20T15:04:14.868Z"
   },
   {
    "duration": 364,
    "start_time": "2024-06-20T15:05:39.739Z"
   },
   {
    "duration": 339,
    "start_time": "2024-06-20T15:08:04.759Z"
   },
   {
    "duration": 353,
    "start_time": "2024-06-20T15:10:08.902Z"
   },
   {
    "duration": 344,
    "start_time": "2024-06-20T15:12:27.410Z"
   },
   {
    "duration": 4,
    "start_time": "2024-06-20T15:20:21.513Z"
   },
   {
    "duration": 228,
    "start_time": "2024-06-20T15:20:21.686Z"
   },
   {
    "duration": 27,
    "start_time": "2024-06-20T15:20:21.917Z"
   },
   {
    "duration": 10,
    "start_time": "2024-06-20T15:20:22.014Z"
   },
   {
    "duration": 17,
    "start_time": "2024-06-20T15:20:22.165Z"
   },
   {
    "duration": 4,
    "start_time": "2024-06-20T15:20:22.327Z"
   },
   {
    "duration": 102,
    "start_time": "2024-06-20T15:20:22.486Z"
   },
   {
    "duration": 8,
    "start_time": "2024-06-20T15:20:22.658Z"
   },
   {
    "duration": 4,
    "start_time": "2024-06-20T15:20:22.807Z"
   },
   {
    "duration": 11,
    "start_time": "2024-06-20T15:20:22.966Z"
   },
   {
    "duration": 9,
    "start_time": "2024-06-20T15:20:23.138Z"
   },
   {
    "duration": 35,
    "start_time": "2024-06-20T15:20:23.294Z"
   },
   {
    "duration": 272,
    "start_time": "2024-06-20T15:20:23.484Z"
   },
   {
    "duration": 93,
    "start_time": "2024-06-20T15:20:23.759Z"
   },
   {
    "duration": 42,
    "start_time": "2024-06-20T15:20:23.857Z"
   },
   {
    "duration": 35,
    "start_time": "2024-06-20T15:20:23.974Z"
   },
   {
    "duration": 69,
    "start_time": "2024-06-20T15:20:24.158Z"
   },
   {
    "duration": 69,
    "start_time": "2024-06-20T15:20:24.324Z"
   },
   {
    "duration": 10,
    "start_time": "2024-06-20T15:20:24.498Z"
   },
   {
    "duration": 82,
    "start_time": "2024-06-20T15:20:24.672Z"
   },
   {
    "duration": 7,
    "start_time": "2024-06-20T15:20:24.837Z"
   },
   {
    "duration": 36,
    "start_time": "2024-06-20T15:20:25.021Z"
   },
   {
    "duration": 24,
    "start_time": "2024-06-20T15:20:25.188Z"
   },
   {
    "duration": 46,
    "start_time": "2024-06-20T15:20:25.377Z"
   },
   {
    "duration": 355,
    "start_time": "2024-06-20T15:20:25.563Z"
   },
   {
    "duration": 357,
    "start_time": "2024-06-20T15:20:25.924Z"
   },
   {
    "duration": 349,
    "start_time": "2024-06-20T15:20:26.285Z"
   },
   {
    "duration": 364,
    "start_time": "2024-06-20T15:20:26.638Z"
   },
   {
    "duration": 4946,
    "start_time": "2024-06-20T16:38:06.039Z"
   },
   {
    "duration": 255,
    "start_time": "2024-06-20T16:38:10.988Z"
   },
   {
    "duration": 26,
    "start_time": "2024-06-20T16:38:11.245Z"
   },
   {
    "duration": 31,
    "start_time": "2024-06-20T16:38:11.276Z"
   },
   {
    "duration": 16,
    "start_time": "2024-06-20T16:38:11.310Z"
   },
   {
    "duration": 4,
    "start_time": "2024-06-20T16:38:11.329Z"
   },
   {
    "duration": 126,
    "start_time": "2024-06-20T16:38:11.336Z"
   },
   {
    "duration": 10,
    "start_time": "2024-06-20T16:38:11.465Z"
   },
   {
    "duration": 23,
    "start_time": "2024-06-20T16:38:11.478Z"
   },
   {
    "duration": 13,
    "start_time": "2024-06-20T16:38:11.508Z"
   },
   {
    "duration": 12,
    "start_time": "2024-06-20T16:38:11.525Z"
   },
   {
    "duration": 77,
    "start_time": "2024-06-20T16:38:11.541Z"
   },
   {
    "duration": 290,
    "start_time": "2024-06-20T16:38:11.621Z"
   },
   {
    "duration": 91,
    "start_time": "2024-06-20T16:38:11.914Z"
   },
   {
    "duration": 46,
    "start_time": "2024-06-20T16:38:12.007Z"
   },
   {
    "duration": 58,
    "start_time": "2024-06-20T16:38:12.056Z"
   },
   {
    "duration": 84,
    "start_time": "2024-06-20T16:38:12.117Z"
   },
   {
    "duration": 75,
    "start_time": "2024-06-20T16:38:12.204Z"
   },
   {
    "duration": 26,
    "start_time": "2024-06-20T16:38:12.283Z"
   },
   {
    "duration": 89,
    "start_time": "2024-06-20T16:38:12.312Z"
   },
   {
    "duration": 7,
    "start_time": "2024-06-20T16:38:12.404Z"
   },
   {
    "duration": 37,
    "start_time": "2024-06-20T16:38:12.414Z"
   },
   {
    "duration": 55,
    "start_time": "2024-06-20T16:38:12.454Z"
   },
   {
    "duration": 47,
    "start_time": "2024-06-20T16:38:12.513Z"
   },
   {
    "duration": 397,
    "start_time": "2024-06-20T16:38:12.564Z"
   },
   {
    "duration": 351,
    "start_time": "2024-06-20T16:38:12.964Z"
   },
   {
    "duration": 350,
    "start_time": "2024-06-20T16:38:13.319Z"
   },
   {
    "duration": 358,
    "start_time": "2024-06-20T16:38:13.677Z"
   },
   {
    "duration": 571,
    "start_time": "2024-06-20T16:40:22.439Z"
   },
   {
    "duration": 4,
    "start_time": "2024-06-20T16:41:42.077Z"
   },
   {
    "duration": 222,
    "start_time": "2024-06-20T16:41:42.257Z"
   },
   {
    "duration": 29,
    "start_time": "2024-06-20T16:41:42.482Z"
   },
   {
    "duration": 12,
    "start_time": "2024-06-20T16:41:42.604Z"
   },
   {
    "duration": 17,
    "start_time": "2024-06-20T16:41:42.754Z"
   },
   {
    "duration": 4,
    "start_time": "2024-06-20T16:41:42.918Z"
   },
   {
    "duration": 105,
    "start_time": "2024-06-20T16:41:43.079Z"
   },
   {
    "duration": 8,
    "start_time": "2024-06-20T16:41:43.257Z"
   },
   {
    "duration": 5,
    "start_time": "2024-06-20T16:41:43.412Z"
   },
   {
    "duration": 10,
    "start_time": "2024-06-20T16:41:43.587Z"
   },
   {
    "duration": 10,
    "start_time": "2024-06-20T16:41:43.753Z"
   },
   {
    "duration": 35,
    "start_time": "2024-06-20T16:41:43.913Z"
   },
   {
    "duration": 279,
    "start_time": "2024-06-20T16:41:44.097Z"
   },
   {
    "duration": 82,
    "start_time": "2024-06-20T16:41:44.379Z"
   },
   {
    "duration": 52,
    "start_time": "2024-06-20T16:41:44.473Z"
   },
   {
    "duration": 35,
    "start_time": "2024-06-20T16:41:44.625Z"
   },
   {
    "duration": 69,
    "start_time": "2024-06-20T16:41:44.794Z"
   },
   {
    "duration": 73,
    "start_time": "2024-06-20T16:41:45.005Z"
   },
   {
    "duration": 9,
    "start_time": "2024-06-20T16:41:45.224Z"
   },
   {
    "duration": 75,
    "start_time": "2024-06-20T16:41:46.331Z"
   },
   {
    "duration": 7,
    "start_time": "2024-06-20T16:41:46.979Z"
   },
   {
    "duration": 36,
    "start_time": "2024-06-20T16:41:47.824Z"
   },
   {
    "duration": 24,
    "start_time": "2024-06-20T16:41:48.012Z"
   },
   {
    "duration": 46,
    "start_time": "2024-06-20T16:41:48.252Z"
   },
   {
    "duration": 138,
    "start_time": "2024-06-20T16:41:48.462Z"
   },
   {
    "duration": 8,
    "start_time": "2024-06-20T16:44:07.108Z"
   },
   {
    "duration": 137,
    "start_time": "2024-06-20T16:44:19.568Z"
   },
   {
    "duration": 165,
    "start_time": "2024-06-20T16:55:53.081Z"
   },
   {
    "duration": 196,
    "start_time": "2024-06-20T16:56:34.212Z"
   },
   {
    "duration": 576,
    "start_time": "2024-06-20T16:57:23.132Z"
   },
   {
    "duration": 592,
    "start_time": "2024-06-20T16:57:42.111Z"
   },
   {
    "duration": 574,
    "start_time": "2024-06-20T16:57:50.035Z"
   },
   {
    "duration": 572,
    "start_time": "2024-06-20T16:59:44.723Z"
   },
   {
    "duration": 199,
    "start_time": "2024-06-20T17:01:00.745Z"
   },
   {
    "duration": 566,
    "start_time": "2024-06-20T17:02:34.889Z"
   },
   {
    "duration": 197,
    "start_time": "2024-06-20T17:04:52.154Z"
   },
   {
    "duration": 615,
    "start_time": "2024-06-20T17:06:48.261Z"
   },
   {
    "duration": 590,
    "start_time": "2024-06-20T17:07:25.756Z"
   },
   {
    "duration": 13,
    "start_time": "2024-06-20T17:08:31.496Z"
   },
   {
    "duration": 694,
    "start_time": "2024-06-20T17:08:58.090Z"
   },
   {
    "duration": 577,
    "start_time": "2024-06-20T17:10:48.327Z"
   },
   {
    "duration": 194,
    "start_time": "2024-06-20T17:16:13.573Z"
   },
   {
    "duration": 576,
    "start_time": "2024-06-20T17:16:26.904Z"
   },
   {
    "duration": 575,
    "start_time": "2024-06-20T17:17:08.490Z"
   },
   {
    "duration": 576,
    "start_time": "2024-06-20T17:17:52.128Z"
   },
   {
    "duration": 582,
    "start_time": "2024-06-20T17:18:57.816Z"
   },
   {
    "duration": 584,
    "start_time": "2024-06-20T17:19:06.168Z"
   },
   {
    "duration": 6,
    "start_time": "2024-06-20T17:24:43.990Z"
   },
   {
    "duration": 11,
    "start_time": "2024-06-20T17:24:59.901Z"
   },
   {
    "duration": 403,
    "start_time": "2024-06-20T17:29:10.700Z"
   },
   {
    "duration": 54,
    "start_time": "2024-06-20T17:30:29.583Z"
   },
   {
    "duration": 57,
    "start_time": "2024-06-20T17:31:33.953Z"
   },
   {
    "duration": 56,
    "start_time": "2024-06-20T17:32:01.603Z"
   },
   {
    "duration": 27,
    "start_time": "2024-06-20T17:33:18.861Z"
   },
   {
    "duration": 8,
    "start_time": "2024-06-20T17:34:57.467Z"
   },
   {
    "duration": 32,
    "start_time": "2024-06-20T17:35:27.415Z"
   },
   {
    "duration": 54,
    "start_time": "2024-06-20T17:35:45.076Z"
   },
   {
    "duration": 5094,
    "start_time": "2024-06-21T01:02:31.787Z"
   },
   {
    "duration": 273,
    "start_time": "2024-06-21T01:02:36.885Z"
   },
   {
    "duration": 32,
    "start_time": "2024-06-21T01:02:37.162Z"
   },
   {
    "duration": 39,
    "start_time": "2024-06-21T01:02:37.198Z"
   },
   {
    "duration": 17,
    "start_time": "2024-06-21T01:02:37.240Z"
   },
   {
    "duration": 4,
    "start_time": "2024-06-21T01:02:37.260Z"
   },
   {
    "duration": 128,
    "start_time": "2024-06-21T01:02:37.266Z"
   },
   {
    "duration": 10,
    "start_time": "2024-06-21T01:02:37.397Z"
   },
   {
    "duration": 24,
    "start_time": "2024-06-21T01:02:37.410Z"
   },
   {
    "duration": 11,
    "start_time": "2024-06-21T01:02:37.440Z"
   },
   {
    "duration": 10,
    "start_time": "2024-06-21T01:02:37.456Z"
   },
   {
    "duration": 72,
    "start_time": "2024-06-21T01:02:37.469Z"
   },
   {
    "duration": 301,
    "start_time": "2024-06-21T01:02:37.544Z"
   },
   {
    "duration": 93,
    "start_time": "2024-06-21T01:02:37.848Z"
   },
   {
    "duration": 44,
    "start_time": "2024-06-21T01:02:37.944Z"
   },
   {
    "duration": 59,
    "start_time": "2024-06-21T01:02:37.991Z"
   },
   {
    "duration": 88,
    "start_time": "2024-06-21T01:02:38.053Z"
   },
   {
    "duration": 73,
    "start_time": "2024-06-21T01:02:38.144Z"
   },
   {
    "duration": 10,
    "start_time": "2024-06-21T01:02:38.234Z"
   },
   {
    "duration": 94,
    "start_time": "2024-06-21T01:02:38.247Z"
   },
   {
    "duration": 7,
    "start_time": "2024-06-21T01:02:38.344Z"
   },
   {
    "duration": 36,
    "start_time": "2024-06-21T01:02:38.355Z"
   },
   {
    "duration": 83,
    "start_time": "2024-06-21T01:02:38.394Z"
   },
   {
    "duration": 73,
    "start_time": "2024-06-21T01:02:38.481Z"
   },
   {
    "duration": 598,
    "start_time": "2024-06-21T01:02:38.558Z"
   },
   {
    "duration": 594,
    "start_time": "2024-06-21T01:02:39.159Z"
   },
   {
    "duration": 620,
    "start_time": "2024-06-21T01:02:39.756Z"
   },
   {
    "duration": 608,
    "start_time": "2024-06-21T01:02:40.382Z"
   },
   {
    "duration": 605,
    "start_time": "2024-06-21T01:02:40.993Z"
   },
   {
    "duration": 4925,
    "start_time": "2024-06-22T23:14:09.398Z"
   },
   {
    "duration": 289,
    "start_time": "2024-06-22T23:14:14.327Z"
   },
   {
    "duration": 25,
    "start_time": "2024-06-22T23:14:14.620Z"
   },
   {
    "duration": 14,
    "start_time": "2024-06-22T23:14:14.649Z"
   },
   {
    "duration": 45,
    "start_time": "2024-06-22T23:14:14.666Z"
   },
   {
    "duration": 4,
    "start_time": "2024-06-22T23:14:14.714Z"
   },
   {
    "duration": 118,
    "start_time": "2024-06-22T23:14:14.721Z"
   },
   {
    "duration": 8,
    "start_time": "2024-06-22T23:14:14.842Z"
   },
   {
    "duration": 5,
    "start_time": "2024-06-22T23:14:14.853Z"
   },
   {
    "duration": 13,
    "start_time": "2024-06-22T23:14:14.863Z"
   },
   {
    "duration": 10,
    "start_time": "2024-06-22T23:14:14.907Z"
   },
   {
    "duration": 36,
    "start_time": "2024-06-22T23:14:14.920Z"
   },
   {
    "duration": 308,
    "start_time": "2024-06-22T23:14:14.958Z"
   },
   {
    "duration": 94,
    "start_time": "2024-06-22T23:14:15.270Z"
   },
   {
    "duration": 64,
    "start_time": "2024-06-22T23:14:15.367Z"
   },
   {
    "duration": 38,
    "start_time": "2024-06-22T23:14:15.434Z"
   },
   {
    "duration": 89,
    "start_time": "2024-06-22T23:14:15.475Z"
   },
   {
    "duration": 95,
    "start_time": "2024-06-22T23:14:15.567Z"
   },
   {
    "duration": 9,
    "start_time": "2024-06-22T23:14:15.665Z"
   },
   {
    "duration": 92,
    "start_time": "2024-06-22T23:14:15.677Z"
   },
   {
    "duration": 7,
    "start_time": "2024-06-22T23:14:15.772Z"
   },
   {
    "duration": 58,
    "start_time": "2024-06-22T23:14:15.782Z"
   },
   {
    "duration": 69,
    "start_time": "2024-06-22T23:14:15.842Z"
   },
   {
    "duration": 47,
    "start_time": "2024-06-22T23:14:15.913Z"
   },
   {
    "duration": 621,
    "start_time": "2024-06-22T23:14:15.963Z"
   },
   {
    "duration": 599,
    "start_time": "2024-06-22T23:14:16.590Z"
   },
   {
    "duration": 603,
    "start_time": "2024-06-22T23:14:17.192Z"
   },
   {
    "duration": 634,
    "start_time": "2024-06-22T23:14:17.798Z"
   },
   {
    "duration": 610,
    "start_time": "2024-06-22T23:14:18.437Z"
   },
   {
    "duration": 10,
    "start_time": "2024-06-22T23:16:40.558Z"
   },
   {
    "duration": 35,
    "start_time": "2024-06-22T23:17:25.224Z"
   },
   {
    "duration": 37,
    "start_time": "2024-06-22T23:20:00.309Z"
   },
   {
    "duration": 39,
    "start_time": "2024-06-22T23:20:02.584Z"
   },
   {
    "duration": 7,
    "start_time": "2024-06-22T23:27:55.542Z"
   },
   {
    "duration": 80,
    "start_time": "2024-06-22T23:28:23.270Z"
   },
   {
    "duration": 7,
    "start_time": "2024-06-22T23:28:34.743Z"
   },
   {
    "duration": 52,
    "start_time": "2024-06-22T23:29:54.815Z"
   },
   {
    "duration": 571,
    "start_time": "2024-06-22T23:32:52.535Z"
   },
   {
    "duration": 8,
    "start_time": "2024-06-22T23:32:58.290Z"
   },
   {
    "duration": 578,
    "start_time": "2024-06-22T23:34:47.588Z"
   },
   {
    "duration": 581,
    "start_time": "2024-06-22T23:34:56.788Z"
   },
   {
    "duration": 570,
    "start_time": "2024-06-22T23:35:47.236Z"
   },
   {
    "duration": 1432,
    "start_time": "2024-06-23T04:57:29.235Z"
   },
   {
    "duration": 251,
    "start_time": "2024-06-23T04:57:30.672Z"
   },
   {
    "duration": 28,
    "start_time": "2024-06-23T04:57:30.928Z"
   },
   {
    "duration": 18,
    "start_time": "2024-06-23T04:57:30.959Z"
   },
   {
    "duration": 19,
    "start_time": "2024-06-23T04:57:31.007Z"
   },
   {
    "duration": 5,
    "start_time": "2024-06-23T04:57:31.029Z"
   },
   {
    "duration": 132,
    "start_time": "2024-06-23T04:57:31.037Z"
   },
   {
    "duration": 10,
    "start_time": "2024-06-23T04:57:31.172Z"
   },
   {
    "duration": 4,
    "start_time": "2024-06-23T04:57:31.185Z"
   },
   {
    "duration": 11,
    "start_time": "2024-06-23T04:57:31.207Z"
   },
   {
    "duration": 11,
    "start_time": "2024-06-23T04:57:31.221Z"
   },
   {
    "duration": 34,
    "start_time": "2024-06-23T04:57:31.236Z"
   },
   {
    "duration": 324,
    "start_time": "2024-06-23T04:57:31.308Z"
   },
   {
    "duration": 97,
    "start_time": "2024-06-23T04:57:31.638Z"
   },
   {
    "duration": 45,
    "start_time": "2024-06-23T04:57:31.738Z"
   },
   {
    "duration": 53,
    "start_time": "2024-06-23T04:57:31.786Z"
   },
   {
    "duration": 86,
    "start_time": "2024-06-23T04:57:31.842Z"
   },
   {
    "duration": 86,
    "start_time": "2024-06-23T04:57:31.931Z"
   },
   {
    "duration": 9,
    "start_time": "2024-06-23T04:57:32.020Z"
   },
   {
    "duration": 94,
    "start_time": "2024-06-23T04:57:32.032Z"
   },
   {
    "duration": 7,
    "start_time": "2024-06-23T04:57:32.129Z"
   },
   {
    "duration": 36,
    "start_time": "2024-06-23T05:00:04.483Z"
   },
   {
    "duration": 53,
    "start_time": "2024-06-23T05:00:06.671Z"
   },
   {
    "duration": 25,
    "start_time": "2024-06-23T05:00:12.519Z"
   },
   {
    "duration": 18,
    "start_time": "2024-06-23T05:07:06.330Z"
   },
   {
    "duration": 22,
    "start_time": "2024-06-23T05:07:19.434Z"
   },
   {
    "duration": 8,
    "start_time": "2024-06-23T05:07:28.834Z"
   },
   {
    "duration": 4787,
    "start_time": "2024-06-24T14:26:41.732Z"
   },
   {
    "duration": 274,
    "start_time": "2024-06-24T14:26:46.522Z"
   },
   {
    "duration": 25,
    "start_time": "2024-06-24T14:26:46.802Z"
   },
   {
    "duration": 14,
    "start_time": "2024-06-24T14:26:46.831Z"
   },
   {
    "duration": 16,
    "start_time": "2024-06-24T14:26:46.848Z"
   },
   {
    "duration": 39,
    "start_time": "2024-06-24T14:26:46.867Z"
   },
   {
    "duration": 110,
    "start_time": "2024-06-24T14:26:46.909Z"
   },
   {
    "duration": 9,
    "start_time": "2024-06-24T14:26:47.022Z"
   },
   {
    "duration": 5,
    "start_time": "2024-06-24T14:26:47.034Z"
   },
   {
    "duration": 11,
    "start_time": "2024-06-24T14:26:47.044Z"
   },
   {
    "duration": 54,
    "start_time": "2024-06-24T14:26:47.058Z"
   },
   {
    "duration": 37,
    "start_time": "2024-06-24T14:26:47.115Z"
   },
   {
    "duration": 298,
    "start_time": "2024-06-24T14:26:47.155Z"
   },
   {
    "duration": 91,
    "start_time": "2024-06-24T14:26:47.455Z"
   },
   {
    "duration": 57,
    "start_time": "2024-06-24T14:26:47.549Z"
   },
   {
    "duration": 38,
    "start_time": "2024-06-24T14:26:47.609Z"
   },
   {
    "duration": 93,
    "start_time": "2024-06-24T14:26:47.650Z"
   },
   {
    "duration": 86,
    "start_time": "2024-06-24T14:26:47.748Z"
   },
   {
    "duration": 11,
    "start_time": "2024-06-24T14:26:47.836Z"
   },
   {
    "duration": 97,
    "start_time": "2024-06-24T14:26:47.850Z"
   },
   {
    "duration": 6,
    "start_time": "2024-06-24T14:26:48.449Z"
   },
   {
    "duration": 37,
    "start_time": "2024-06-24T14:26:48.800Z"
   },
   {
    "duration": 50,
    "start_time": "2024-06-24T14:26:49.175Z"
   },
   {
    "duration": 46,
    "start_time": "2024-06-24T14:26:49.886Z"
   },
   {
    "duration": 572,
    "start_time": "2024-06-24T14:26:50.239Z"
   },
   {
    "duration": 597,
    "start_time": "2024-06-24T14:26:50.815Z"
   },
   {
    "duration": 601,
    "start_time": "2024-06-24T14:26:51.416Z"
   },
   {
    "duration": 591,
    "start_time": "2024-06-24T14:26:52.020Z"
   },
   {
    "duration": 582,
    "start_time": "2024-06-24T14:26:52.615Z"
   },
   {
    "duration": 4,
    "start_time": "2024-06-24T14:29:46.102Z"
   },
   {
    "duration": 11,
    "start_time": "2024-06-24T14:31:33.407Z"
   },
   {
    "duration": 460,
    "start_time": "2024-06-24T14:31:47.049Z"
   },
   {
    "duration": 31,
    "start_time": "2024-06-24T14:32:04.113Z"
   },
   {
    "duration": 5,
    "start_time": "2024-06-24T14:32:20.651Z"
   },
   {
    "duration": 13,
    "start_time": "2024-06-24T14:33:21.837Z"
   },
   {
    "duration": 24,
    "start_time": "2024-06-24T14:33:26.831Z"
   },
   {
    "duration": 5,
    "start_time": "2024-06-24T14:34:08.428Z"
   },
   {
    "duration": 5,
    "start_time": "2024-06-24T14:35:21.782Z"
   },
   {
    "duration": 31,
    "start_time": "2024-06-24T14:35:53.216Z"
   },
   {
    "duration": 31,
    "start_time": "2024-06-24T14:36:30.879Z"
   },
   {
    "duration": 30,
    "start_time": "2024-06-24T14:38:22.375Z"
   },
   {
    "duration": 27,
    "start_time": "2024-06-24T14:39:18.254Z"
   },
   {
    "duration": 5,
    "start_time": "2024-06-24T14:39:31.280Z"
   },
   {
    "duration": 18,
    "start_time": "2024-06-24T14:40:19.618Z"
   },
   {
    "duration": 9,
    "start_time": "2024-06-24T14:41:47.335Z"
   },
   {
    "duration": 21,
    "start_time": "2024-06-24T14:41:53.646Z"
   },
   {
    "duration": 7,
    "start_time": "2024-06-24T14:42:18.689Z"
   },
   {
    "duration": 18,
    "start_time": "2024-06-24T14:42:24.313Z"
   },
   {
    "duration": 60,
    "start_time": "2024-06-24T14:43:39.573Z"
   },
   {
    "duration": 65,
    "start_time": "2024-06-24T14:43:58.209Z"
   },
   {
    "duration": 63,
    "start_time": "2024-06-24T14:45:46.662Z"
   },
   {
    "duration": 19,
    "start_time": "2024-06-24T14:46:50.858Z"
   },
   {
    "duration": 6,
    "start_time": "2024-06-24T15:06:09.587Z"
   },
   {
    "duration": 7,
    "start_time": "2024-06-24T15:06:58.359Z"
   },
   {
    "duration": 13,
    "start_time": "2024-06-24T15:08:32.143Z"
   },
   {
    "duration": 6,
    "start_time": "2024-06-24T15:08:57.630Z"
   },
   {
    "duration": 6,
    "start_time": "2024-06-24T15:09:55.994Z"
   },
   {
    "duration": 81,
    "start_time": "2024-06-24T15:13:13.756Z"
   },
   {
    "duration": 210,
    "start_time": "2024-06-24T15:23:44.706Z"
   },
   {
    "duration": 194,
    "start_time": "2024-06-24T15:25:44.612Z"
   },
   {
    "duration": 4,
    "start_time": "2024-06-24T15:26:08.717Z"
   },
   {
    "duration": 198,
    "start_time": "2024-06-24T15:26:21.056Z"
   },
   {
    "duration": 195,
    "start_time": "2024-06-24T15:28:10.512Z"
   },
   {
    "duration": 191,
    "start_time": "2024-06-24T15:31:59.643Z"
   },
   {
    "duration": 10,
    "start_time": "2024-06-24T15:35:45.887Z"
   },
   {
    "duration": 1720,
    "start_time": "2024-06-24T15:36:01.100Z"
   },
   {
    "duration": 4,
    "start_time": "2024-06-24T15:38:25.104Z"
   },
   {
    "duration": 11,
    "start_time": "2024-06-24T15:48:05.629Z"
   },
   {
    "duration": 136,
    "start_time": "2024-06-24T15:48:15.043Z"
   },
   {
    "duration": 151,
    "start_time": "2024-06-24T15:50:00.531Z"
   },
   {
    "duration": 23,
    "start_time": "2024-06-24T15:51:40.620Z"
   },
   {
    "duration": 8,
    "start_time": "2024-06-24T15:54:21.256Z"
   },
   {
    "duration": 366,
    "start_time": "2024-06-24T15:55:17.982Z"
   },
   {
    "duration": 129,
    "start_time": "2024-06-24T16:03:19.798Z"
   },
   {
    "duration": 160,
    "start_time": "2024-06-24T16:05:43.023Z"
   },
   {
    "duration": 120,
    "start_time": "2024-06-24T16:06:49.776Z"
   },
   {
    "duration": 163,
    "start_time": "2024-06-24T16:07:28.071Z"
   },
   {
    "duration": 161,
    "start_time": "2024-06-24T16:09:47.804Z"
   },
   {
    "duration": 140,
    "start_time": "2024-06-24T16:13:04.154Z"
   },
   {
    "duration": 118,
    "start_time": "2024-06-24T16:13:46.051Z"
   },
   {
    "duration": 101,
    "start_time": "2024-06-24T16:15:03.988Z"
   },
   {
    "duration": 22,
    "start_time": "2024-06-24T16:15:07.629Z"
   },
   {
    "duration": 23,
    "start_time": "2024-06-24T16:17:17.793Z"
   },
   {
    "duration": 23,
    "start_time": "2024-06-24T16:17:56.674Z"
   },
   {
    "duration": 45,
    "start_time": "2024-06-24T16:21:34.971Z"
   },
   {
    "duration": 22,
    "start_time": "2024-06-24T16:21:58.027Z"
   },
   {
    "duration": 23,
    "start_time": "2024-06-24T16:23:21.228Z"
   },
   {
    "duration": 12,
    "start_time": "2024-06-24T16:29:23.911Z"
   },
   {
    "duration": 131,
    "start_time": "2024-06-24T16:29:31.505Z"
   },
   {
    "duration": 119,
    "start_time": "2024-06-24T16:33:11.306Z"
   },
   {
    "duration": 116,
    "start_time": "2024-06-24T16:34:07.390Z"
   },
   {
    "duration": 8,
    "start_time": "2024-06-24T16:35:00.750Z"
   },
   {
    "duration": 9,
    "start_time": "2024-06-24T16:35:16.108Z"
   },
   {
    "duration": 12,
    "start_time": "2024-06-24T16:35:22.924Z"
   },
   {
    "duration": 23,
    "start_time": "2024-06-24T16:35:46.487Z"
   },
   {
    "duration": 21,
    "start_time": "2024-06-24T16:36:12.621Z"
   },
   {
    "duration": 24,
    "start_time": "2024-06-24T16:36:49.721Z"
   },
   {
    "duration": 7,
    "start_time": "2024-06-24T16:37:33.898Z"
   },
   {
    "duration": 223,
    "start_time": "2024-06-24T16:37:42.979Z"
   },
   {
    "duration": 273,
    "start_time": "2024-06-24T16:39:29.923Z"
   },
   {
    "duration": 269,
    "start_time": "2024-06-24T16:42:12.777Z"
   },
   {
    "duration": 57,
    "start_time": "2024-06-24T16:44:32.910Z"
   },
   {
    "duration": 5169,
    "start_time": "2024-06-24T17:24:41.032Z"
   },
   {
    "duration": 282,
    "start_time": "2024-06-24T17:24:46.205Z"
   },
   {
    "duration": 26,
    "start_time": "2024-06-24T17:24:46.491Z"
   },
   {
    "duration": 15,
    "start_time": "2024-06-24T17:24:46.533Z"
   },
   {
    "duration": 17,
    "start_time": "2024-06-24T17:24:46.554Z"
   },
   {
    "duration": 4,
    "start_time": "2024-06-24T17:24:46.575Z"
   },
   {
    "duration": 129,
    "start_time": "2024-06-24T17:24:46.583Z"
   },
   {
    "duration": 21,
    "start_time": "2024-06-24T17:24:46.715Z"
   },
   {
    "duration": 5,
    "start_time": "2024-06-24T17:24:46.739Z"
   },
   {
    "duration": 11,
    "start_time": "2024-06-24T17:24:46.750Z"
   },
   {
    "duration": 11,
    "start_time": "2024-06-24T17:24:46.764Z"
   },
   {
    "duration": 79,
    "start_time": "2024-06-24T17:24:46.780Z"
   },
   {
    "duration": 299,
    "start_time": "2024-06-24T17:24:46.862Z"
   },
   {
    "duration": 98,
    "start_time": "2024-06-24T17:24:47.164Z"
   },
   {
    "duration": 19,
    "start_time": "2024-06-24T17:24:47.265Z"
   },
   {
    "duration": 78,
    "start_time": "2024-06-24T17:24:47.290Z"
   },
   {
    "duration": 59,
    "start_time": "2024-06-24T17:24:47.371Z"
   },
   {
    "duration": 81,
    "start_time": "2024-06-24T17:24:47.433Z"
   },
   {
    "duration": 76,
    "start_time": "2024-06-24T17:24:47.531Z"
   },
   {
    "duration": 23,
    "start_time": "2024-06-24T17:24:47.612Z"
   },
   {
    "duration": 74,
    "start_time": "2024-06-24T17:24:47.638Z"
   },
   {
    "duration": 7,
    "start_time": "2024-06-24T17:24:47.731Z"
   },
   {
    "duration": 8,
    "start_time": "2024-06-24T17:24:48.224Z"
   },
   {
    "duration": 44,
    "start_time": "2024-06-24T17:24:48.566Z"
   },
   {
    "duration": 121,
    "start_time": "2024-06-24T17:24:48.918Z"
   },
   {
    "duration": 26,
    "start_time": "2024-06-24T17:24:49.107Z"
   },
   {
    "duration": 210,
    "start_time": "2024-06-24T17:24:49.806Z"
   },
   {
    "duration": 255,
    "start_time": "2024-06-24T17:24:50.156Z"
   },
   {
    "duration": 233,
    "start_time": "2024-06-24T17:24:50.544Z"
   },
   {
    "duration": 632,
    "start_time": "2024-06-24T17:24:50.912Z"
   },
   {
    "duration": 671,
    "start_time": "2024-06-24T17:24:51.547Z"
   },
   {
    "duration": 213,
    "start_time": "2024-06-24T17:26:45.937Z"
   },
   {
    "duration": 5039,
    "start_time": "2024-06-25T14:19:37.400Z"
   },
   {
    "duration": 277,
    "start_time": "2024-06-25T14:19:42.443Z"
   },
   {
    "duration": 29,
    "start_time": "2024-06-25T14:19:42.722Z"
   },
   {
    "duration": 14,
    "start_time": "2024-06-25T14:19:42.755Z"
   },
   {
    "duration": 53,
    "start_time": "2024-06-25T14:19:42.772Z"
   },
   {
    "duration": 4,
    "start_time": "2024-06-25T14:19:42.829Z"
   },
   {
    "duration": 134,
    "start_time": "2024-06-25T14:19:42.836Z"
   },
   {
    "duration": 8,
    "start_time": "2024-06-25T14:19:42.973Z"
   },
   {
    "duration": 7,
    "start_time": "2024-06-25T14:19:42.984Z"
   },
   {
    "duration": 35,
    "start_time": "2024-06-25T14:19:42.996Z"
   },
   {
    "duration": 12,
    "start_time": "2024-06-25T14:19:43.034Z"
   },
   {
    "duration": 36,
    "start_time": "2024-06-25T14:19:43.049Z"
   },
   {
    "duration": 317,
    "start_time": "2024-06-25T14:19:43.088Z"
   },
   {
    "duration": 90,
    "start_time": "2024-06-25T14:19:43.408Z"
   },
   {
    "duration": 28,
    "start_time": "2024-06-25T14:19:43.501Z"
   },
   {
    "duration": 44,
    "start_time": "2024-06-25T14:19:43.532Z"
   },
   {
    "duration": 58,
    "start_time": "2024-06-25T14:19:43.578Z"
   },
   {
    "duration": 90,
    "start_time": "2024-06-25T14:19:43.639Z"
   },
   {
    "duration": 100,
    "start_time": "2024-06-25T14:19:43.734Z"
   },
   {
    "duration": 10,
    "start_time": "2024-06-25T14:19:43.836Z"
   },
   {
    "duration": 93,
    "start_time": "2024-06-25T14:19:43.850Z"
   },
   {
    "duration": 7,
    "start_time": "2024-06-25T14:19:43.948Z"
   },
   {
    "duration": 6,
    "start_time": "2024-06-25T14:19:44.904Z"
   },
   {
    "duration": 35,
    "start_time": "2024-06-25T14:19:45.237Z"
   },
   {
    "duration": 102,
    "start_time": "2024-06-25T14:19:45.588Z"
   },
   {
    "duration": 27,
    "start_time": "2024-06-25T14:19:45.752Z"
   },
   {
    "duration": 212,
    "start_time": "2024-06-25T14:19:46.683Z"
   },
   {
    "duration": 233,
    "start_time": "2024-06-25T14:19:48.343Z"
   },
   {
    "duration": 220,
    "start_time": "2024-06-25T14:19:48.693Z"
   },
   {
    "duration": 226,
    "start_time": "2024-06-25T14:19:49.124Z"
   },
   {
    "duration": 67,
    "start_time": "2024-06-25T14:35:48.057Z"
   },
   {
    "duration": 6,
    "start_time": "2024-06-25T14:37:38.685Z"
   },
   {
    "duration": 210,
    "start_time": "2024-06-25T14:41:28.539Z"
   },
   {
    "duration": 237,
    "start_time": "2024-06-25T14:42:43.522Z"
   },
   {
    "duration": 10,
    "start_time": "2024-06-25T14:47:39.327Z"
   },
   {
    "duration": 382,
    "start_time": "2024-06-25T14:48:30.803Z"
   },
   {
    "duration": 348,
    "start_time": "2024-06-25T14:49:43.888Z"
   },
   {
    "duration": 341,
    "start_time": "2024-06-25T14:50:58.498Z"
   },
   {
    "duration": 344,
    "start_time": "2024-06-25T14:52:08.798Z"
   },
   {
    "duration": 4,
    "start_time": "2024-06-25T14:55:10.647Z"
   },
   {
    "duration": 244,
    "start_time": "2024-06-25T14:55:10.776Z"
   },
   {
    "duration": 24,
    "start_time": "2024-06-25T14:55:11.023Z"
   },
   {
    "duration": 12,
    "start_time": "2024-06-25T14:55:11.127Z"
   },
   {
    "duration": 17,
    "start_time": "2024-06-25T14:55:11.293Z"
   },
   {
    "duration": 3,
    "start_time": "2024-06-25T14:55:11.446Z"
   },
   {
    "duration": 98,
    "start_time": "2024-06-25T14:55:11.619Z"
   },
   {
    "duration": 8,
    "start_time": "2024-06-25T14:55:11.793Z"
   },
   {
    "duration": 4,
    "start_time": "2024-06-25T14:55:12.098Z"
   },
   {
    "duration": 10,
    "start_time": "2024-06-25T14:55:12.431Z"
   },
   {
    "duration": 9,
    "start_time": "2024-06-25T14:55:12.783Z"
   },
   {
    "duration": 34,
    "start_time": "2024-06-25T14:55:13.286Z"
   },
   {
    "duration": 254,
    "start_time": "2024-06-25T14:55:13.644Z"
   },
   {
    "duration": 79,
    "start_time": "2024-06-25T14:55:13.972Z"
   },
   {
    "duration": 15,
    "start_time": "2024-06-25T14:55:14.130Z"
   },
   {
    "duration": 43,
    "start_time": "2024-06-25T14:55:15.015Z"
   },
   {
    "duration": 36,
    "start_time": "2024-06-25T14:55:15.355Z"
   },
   {
    "duration": 69,
    "start_time": "2024-06-25T14:55:15.711Z"
   },
   {
    "duration": 71,
    "start_time": "2024-06-25T14:55:16.252Z"
   },
   {
    "duration": 10,
    "start_time": "2024-06-25T14:55:16.404Z"
   },
   {
    "duration": 73,
    "start_time": "2024-06-25T14:55:16.767Z"
   },
   {
    "duration": 6,
    "start_time": "2024-06-25T14:55:16.939Z"
   },
   {
    "duration": 7,
    "start_time": "2024-06-25T14:55:18.033Z"
   },
   {
    "duration": 36,
    "start_time": "2024-06-25T14:55:18.392Z"
   },
   {
    "duration": 65,
    "start_time": "2024-06-25T14:55:18.745Z"
   },
   {
    "duration": 6,
    "start_time": "2024-06-25T14:55:18.938Z"
   },
   {
    "duration": 337,
    "start_time": "2024-06-25T14:55:19.872Z"
   },
   {
    "duration": 355,
    "start_time": "2024-06-25T14:55:20.213Z"
   },
   {
    "duration": 363,
    "start_time": "2024-06-25T14:55:20.581Z"
   },
   {
    "duration": 348,
    "start_time": "2024-06-25T14:55:20.969Z"
   }
  ],
  "kernelspec": {
   "display_name": "Python 3 (ipykernel)",
   "language": "python",
   "name": "python3"
  },
  "language_info": {
   "codemirror_mode": {
    "name": "ipython",
    "version": 3
   },
   "file_extension": ".py",
   "mimetype": "text/x-python",
   "name": "python",
   "nbconvert_exporter": "python",
   "pygments_lexer": "ipython3",
   "version": "3.9.19"
  },
  "toc": {
   "base_numbering": 1,
   "nav_menu": {},
   "number_sections": true,
   "sideBar": true,
   "skip_h1_title": true,
   "title_cell": "Table of Contents",
   "title_sidebar": "Contents",
   "toc_cell": false,
   "toc_position": {},
   "toc_section_display": true,
   "toc_window_display": false
  }
 },
 "nbformat": 4,
 "nbformat_minor": 2
}
